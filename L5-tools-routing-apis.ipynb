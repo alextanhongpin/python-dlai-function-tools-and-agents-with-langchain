{
    "cells": [
        {
            "metadata": {},
            "id": "b815ef73",
            "cell_type": "markdown",
            "source": "# Tools and Routing"
        },
        {
            "metadata": {
                "tags": [],
                "trusted": true,
                "height": 130
            },
            "id": "cb41f5f4-df8d-4d04-9eaa-193b8c29b00b",
            "cell_type": "code",
            "source": "import os\nimport openai\n\nfrom dotenv import load_dotenv, find_dotenv\n_ = load_dotenv(find_dotenv()) # read local .env file\nopenai.api_key = os.environ['OPENAI_API_KEY']",
            "execution_count": 1,
            "outputs": []
        },
        {
            "metadata": {
                "trusted": true,
                "height": 30
            },
            "id": "139c45e6-65a4-4fcb-a109-e5ba41a80835",
            "cell_type": "code",
            "source": "from langchain.agents import tool",
            "execution_count": 2,
            "outputs": []
        },
        {
            "metadata": {
                "trusted": true,
                "height": 81
            },
            "id": "8a17f623-9342-46bd-a913-9ea6be32a7a9",
            "cell_type": "code",
            "source": "@tool\ndef search(query: str) -> str:\n    \"\"\"Search for weather online\"\"\"\n    return \"42f\"",
            "execution_count": 3,
            "outputs": []
        },
        {
            "metadata": {
                "trusted": true,
                "height": 30
            },
            "id": "db510949-acb8-4f69-b6c9-242b84fdc63a",
            "cell_type": "code",
            "source": "search.name",
            "execution_count": 4,
            "outputs": [
                {
                    "output_type": "execute_result",
                    "execution_count": 4,
                    "data": {
                        "text/plain": "'search'"
                    },
                    "metadata": {}
                }
            ]
        },
        {
            "metadata": {
                "trusted": true,
                "height": 30
            },
            "id": "c4c12426-5e1a-4057-8ae5-6dfb6beace97",
            "cell_type": "code",
            "source": "search.description",
            "execution_count": 5,
            "outputs": [
                {
                    "output_type": "execute_result",
                    "execution_count": 5,
                    "data": {
                        "text/plain": "'search(query: str) -> str - Search for weather online'"
                    },
                    "metadata": {}
                }
            ]
        },
        {
            "metadata": {
                "trusted": true,
                "height": 30
            },
            "id": "22d1c4e6-8313-41a0-ae7a-61343699cb7c",
            "cell_type": "code",
            "source": "search.args",
            "execution_count": 6,
            "outputs": [
                {
                    "output_type": "execute_result",
                    "execution_count": 6,
                    "data": {
                        "text/plain": "{'query': {'title': 'Query', 'type': 'string'}}"
                    },
                    "metadata": {}
                }
            ]
        },
        {
            "metadata": {
                "trusted": true,
                "height": 96
            },
            "id": "8765af16-17fc-4490-98ab-4e9dd59337cf",
            "cell_type": "code",
            "source": "from pydantic import BaseModel, Field\nclass SearchInput(BaseModel):\n    query: str = Field(description=\"Thing to search for\")\n",
            "execution_count": 7,
            "outputs": []
        },
        {
            "metadata": {
                "trusted": true,
                "height": 96
            },
            "id": "91d20261-e18f-4989-808c-c4f36643d024",
            "cell_type": "code",
            "source": "@tool(args_schema=SearchInput)\ndef search(query: str) -> str:\n    \"\"\"Search for the weather online.\"\"\"\n    return \"42f\"",
            "execution_count": 8,
            "outputs": []
        },
        {
            "metadata": {
                "trusted": true,
                "height": 30
            },
            "id": "88b3f7d0-a856-4842-82da-6c00df53e9d9",
            "cell_type": "code",
            "source": "search.args",
            "execution_count": 9,
            "outputs": [
                {
                    "output_type": "execute_result",
                    "execution_count": 9,
                    "data": {
                        "text/plain": "{'query': {'title': 'Query',\n  'description': 'Thing to search for',\n  'type': 'string'}}"
                    },
                    "metadata": {}
                }
            ]
        },
        {
            "metadata": {
                "trusted": true,
                "height": 30
            },
            "id": "060dc15b-f95f-47ab-b081-d6736f277ebc",
            "cell_type": "code",
            "source": "search.run(\"sf\")",
            "execution_count": 10,
            "outputs": [
                {
                    "output_type": "execute_result",
                    "execution_count": 10,
                    "data": {
                        "text/plain": "'42f'"
                    },
                    "metadata": {}
                }
            ]
        },
        {
            "metadata": {
                "trusted": true,
                "height": 691
            },
            "id": "e93b85b2-1786-4f63-8e65-cd6a8b5c0b33",
            "cell_type": "code",
            "source": "import requests\nfrom pydantic import BaseModel, Field\nimport datetime\n\n# Define the input schema\nclass OpenMeteoInput(BaseModel):\n    latitude: float = Field(..., description=\"Latitude of the location to fetch weather data for\")\n    longitude: float = Field(..., description=\"Longitude of the location to fetch weather data for\")\n\n@tool(args_schema=OpenMeteoInput)\ndef get_current_temperature(latitude: float, longitude: float) -> dict:\n    \"\"\"Fetch current temperature for given coordinates.\"\"\"\n    \n    BASE_URL = \"https://api.open-meteo.com/v1/forecast\"\n    \n    # Parameters for the request\n    params = {\n        'latitude': latitude,\n        'longitude': longitude,\n        'hourly': 'temperature_2m',\n        'forecast_days': 1,\n    }\n\n    # Make the request\n    response = requests.get(BASE_URL, params=params)\n    \n    if response.status_code == 200:\n        results = response.json()\n    else:\n        raise Exception(f\"API Request failed with status code: {response.status_code}\")\n\n    current_utc_time = datetime.datetime.utcnow()\n    time_list = [datetime.datetime.fromisoformat(time_str.replace('Z', '+00:00')) for time_str in results['hourly']['time']]\n    temperature_list = results['hourly']['temperature_2m']\n    \n    closest_time_index = min(range(len(time_list)), key=lambda i: abs(time_list[i] - current_utc_time))\n    current_temperature = temperature_list[closest_time_index]\n    \n    return f'The current temperature is {current_temperature}°C'",
            "execution_count": 11,
            "outputs": []
        },
        {
            "metadata": {
                "trusted": true,
                "height": 30
            },
            "id": "731ed353-a27d-42df-89a8-9767bafb23be",
            "cell_type": "code",
            "source": "get_current_temperature.name",
            "execution_count": 12,
            "outputs": [
                {
                    "output_type": "execute_result",
                    "execution_count": 12,
                    "data": {
                        "text/plain": "'get_current_temperature'"
                    },
                    "metadata": {}
                }
            ]
        },
        {
            "metadata": {
                "trusted": true,
                "height": 30
            },
            "id": "d4f62eb8-c528-4e4a-b078-22e9d9b20a09",
            "cell_type": "code",
            "source": "get_current_temperature.description",
            "execution_count": 13,
            "outputs": [
                {
                    "output_type": "execute_result",
                    "execution_count": 13,
                    "data": {
                        "text/plain": "'get_current_temperature(latitude: float, longitude: float) -> dict - Fetch current temperature for given coordinates.'"
                    },
                    "metadata": {}
                }
            ]
        },
        {
            "metadata": {
                "trusted": true,
                "height": 30
            },
            "id": "38ebb59f-cf0f-4281-99c3-87c8cfd3377b",
            "cell_type": "code",
            "source": "get_current_temperature.args",
            "execution_count": 14,
            "outputs": [
                {
                    "output_type": "execute_result",
                    "execution_count": 14,
                    "data": {
                        "text/plain": "{'latitude': {'title': 'Latitude',\n  'description': 'Latitude of the location to fetch weather data for',\n  'type': 'number'},\n 'longitude': {'title': 'Longitude',\n  'description': 'Longitude of the location to fetch weather data for',\n  'type': 'number'}}"
                    },
                    "metadata": {}
                }
            ]
        },
        {
            "metadata": {
                "trusted": true,
                "height": 45
            },
            "id": "36aacbec-9cdd-414a-b502-168cea350a30",
            "cell_type": "code",
            "source": "from langchain.tools.render import format_tool_to_openai_function",
            "execution_count": 15,
            "outputs": []
        },
        {
            "metadata": {
                "trusted": true,
                "height": 45
            },
            "id": "6277b6a8-f197-4057-a96a-5ebb61e18520",
            "cell_type": "code",
            "source": "format_tool_to_openai_function(get_current_temperature)",
            "execution_count": 16,
            "outputs": [
                {
                    "output_type": "execute_result",
                    "execution_count": 16,
                    "data": {
                        "text/plain": "{'name': 'get_current_temperature',\n 'description': 'get_current_temperature(latitude: float, longitude: float) -> dict - Fetch current temperature for given coordinates.',\n 'parameters': {'title': 'OpenMeteoInput',\n  'type': 'object',\n  'properties': {'latitude': {'title': 'Latitude',\n    'description': 'Latitude of the location to fetch weather data for',\n    'type': 'number'},\n   'longitude': {'title': 'Longitude',\n    'description': 'Longitude of the location to fetch weather data for',\n    'type': 'number'}},\n  'required': ['latitude', 'longitude']}}"
                    },
                    "metadata": {}
                }
            ]
        },
        {
            "metadata": {
                "trusted": true,
                "height": 45
            },
            "id": "e088eceb-424b-4da6-981f-63322c9ac56a",
            "cell_type": "code",
            "source": "get_current_temperature({\"latitude\": 13, \"longitude\": 14})",
            "execution_count": 17,
            "outputs": [
                {
                    "output_type": "execute_result",
                    "execution_count": 17,
                    "data": {
                        "text/plain": "'The current temperature is 35.7°C'"
                    },
                    "metadata": {}
                }
            ]
        },
        {
            "metadata": {
                "trusted": true,
                "height": 334
            },
            "id": "5eefc272-d205-4bad-ab00-282ccb3cc2fe",
            "cell_type": "code",
            "source": "import wikipedia\n@tool\ndef search_wikipedia(query: str) -> str:\n    \"\"\"Run Wikipedia search and get page summaries.\"\"\"\n    page_titles = wikipedia.search(query)\n    summaries = []\n    for page_title in page_titles[: 3]:\n        try:\n            wiki_page =  wikipedia.page(title=page_title, auto_suggest=False)\n            summaries.append(f\"Page: {page_title}\\nSummary: {wiki_page.summary}\")\n        except (\n            self.wiki_client.exceptions.PageError,\n            self.wiki_client.exceptions.DisambiguationError,\n        ):\n            pass\n    if not summaries:\n        return \"No good Wikipedia Search Result was found\"\n    return \"\\n\\n\".join(summaries)",
            "execution_count": 18,
            "outputs": []
        },
        {
            "metadata": {
                "trusted": true,
                "height": 30
            },
            "id": "289c5d0c-0e71-4d70-963f-9d9f58e53d56",
            "cell_type": "code",
            "source": "search_wikipedia.name",
            "execution_count": 19,
            "outputs": [
                {
                    "output_type": "execute_result",
                    "execution_count": 19,
                    "data": {
                        "text/plain": "'search_wikipedia'"
                    },
                    "metadata": {}
                }
            ]
        },
        {
            "metadata": {
                "trusted": true,
                "height": 30
            },
            "id": "69756d79-ec2f-4185-89af-d14de817fc27",
            "cell_type": "code",
            "source": "search_wikipedia.description",
            "execution_count": 20,
            "outputs": [
                {
                    "output_type": "execute_result",
                    "execution_count": 20,
                    "data": {
                        "text/plain": "'search_wikipedia(query: str) -> str - Run Wikipedia search and get page summaries.'"
                    },
                    "metadata": {}
                }
            ]
        },
        {
            "metadata": {
                "trusted": true,
                "height": 45
            },
            "id": "d5b876cd-cc6c-484d-a3fa-d8810e22d564",
            "cell_type": "code",
            "source": "format_tool_to_openai_function(search_wikipedia)",
            "execution_count": 21,
            "outputs": [
                {
                    "output_type": "execute_result",
                    "execution_count": 21,
                    "data": {
                        "text/plain": "{'name': 'search_wikipedia',\n 'description': 'search_wikipedia(query: str) -> str - Run Wikipedia search and get page summaries.',\n 'parameters': {'title': 'search_wikipediaSchemaSchema',\n  'type': 'object',\n  'properties': {'query': {'title': 'Query', 'type': 'string'}},\n  'required': ['query']}}"
                    },
                    "metadata": {}
                }
            ]
        },
        {
            "metadata": {
                "scrolled": true,
                "trusted": true,
                "height": 45
            },
            "id": "6dfb10e9-5d1e-474a-9c8f-7abdf7939a34",
            "cell_type": "code",
            "source": "search_wikipedia({\"query\": \"langchain\"})",
            "execution_count": 22,
            "outputs": [
                {
                    "output_type": "execute_result",
                    "execution_count": 22,
                    "data": {
                        "text/plain": "'Page: LangChain\\nSummary: LangChain is a framework designed to simplify the creation of applications using large language models (LLMs). As a language model integration framework, LangChain\\'s use-cases largely overlap with those of language models in general, including document analysis and summarization, chatbots, and code analysis.\\n\\nPage: Sentence embedding\\nSummary: In natural language processing, a sentence embedding refers to a numeric representation of a sentence in the form of a vector of real numbers which encodes meaningful semantic information.State of the art embeddings are based on the learned hidden layer representation of dedicated sentence transformer models. BERT pioneered an approach involving the use of a dedicated [CLS] token prepended to the beginning of each sentence inputted into the model; the final hidden state vector of this token encodes information about the sentence and can be fine-tuned for use in sentence classification tasks. In practice however, BERT\\'s sentence embedding with the [CLS] token achieves poor performance, often worse than simply averaging non-contextual word embeddings. SBERT later achieved superior sentence embedding performance by fine tuning BERT\\'s [CLS] token embeddings through the usage of a siamese neural network architecture on the SNLI dataset. \\nOther approaches are loosely based on the idea of distributional semantics applied to sentences. Skip-Thought trains an encoder-decoder structure for the task of neighboring sentences predictions. Though this has been shown to achieve worse performance than approaches such as InferSent or SBERT. \\nAn alternative direction is to aggregate word embeddings, such as those returned by Word2vec, into sentence embeddings. The most straightforward approach is to simply compute the average of word vectors, known as continuous bag-of-words (CBOW). However, more elaborate solutions based on word vector quantization have also been proposed. One such approach is the vector of locally aggregated word embeddings (VLAWE), which demonstrated performance improvements in downstream text classification tasks.\\n\\nPage: Prompt engineering\\nSummary: Prompt engineering is the process of structuring text that can be interpreted and understood by a generative AI model. A prompt is natural language text describing the task that an AI should perform.A prompt for a text-to-text model can be a query such as \"what is Fermat\\'s little theorem?\", a command such as \"write a poem about leaves falling\", a short statement of feedback (for example, \"too verbose\", \"too formal\", \"rephrase again\", \"omit this word\") or a longer statement including context, instructions, and input data. Prompt engineering may involve phrasing a query, specifying a style, providing relevant context or assigning a role to the AI such as \"Act as a native French speaker\". A prompt may include a few examples for a model to learn from, such as \"maison -> house, chat -> cat, chien ->\", an approach called few-shot learning.When communicating with a text-to-image or a text-to-audio model, a typical prompt is a description of a desired output such as \"a high-quality photo of an astronaut riding a horse\" or \"Lo-fi slow BPM electro chill with organic samples\". Prompting a text-to-image model may involve adding, removing, emphasizing and re-ordering words to achieve a desired subject, style, layout, lighting, and aesthetic.'"
                    },
                    "metadata": {}
                }
            ]
        },
        {
            "metadata": {
                "trusted": true,
                "height": 62
            },
            "id": "54cbe57e-f64c-4392-bcdd-9621fe1e46e5",
            "cell_type": "code",
            "source": "from langchain.chains.openai_functions.openapi import openapi_spec_to_openai_fn\nfrom langchain.utilities.openapi import OpenAPISpec",
            "execution_count": 23,
            "outputs": []
        },
        {
            "metadata": {
                "trusted": true,
                "height": 3105
            },
            "id": "7fe38e50-874c-49bd-8681-f95dcab0b464",
            "cell_type": "code",
            "source": "text = \"\"\"\n{\n  \"openapi\": \"3.0.0\",\n  \"info\": {\n    \"version\": \"1.0.0\",\n    \"title\": \"Swagger Petstore\",\n    \"license\": {\n      \"name\": \"MIT\"\n    }\n  },\n  \"servers\": [\n    {\n      \"url\": \"http://petstore.swagger.io/v1\"\n    }\n  ],\n  \"paths\": {\n    \"/pets\": {\n      \"get\": {\n        \"summary\": \"List all pets\",\n        \"operationId\": \"listPets\",\n        \"tags\": [\n          \"pets\"\n        ],\n        \"parameters\": [\n          {\n            \"name\": \"limit\",\n            \"in\": \"query\",\n            \"description\": \"How many items to return at one time (max 100)\",\n            \"required\": false,\n            \"schema\": {\n              \"type\": \"integer\",\n              \"maximum\": 100,\n              \"format\": \"int32\"\n            }\n          }\n        ],\n        \"responses\": {\n          \"200\": {\n            \"description\": \"A paged array of pets\",\n            \"headers\": {\n              \"x-next\": {\n                \"description\": \"A link to the next page of responses\",\n                \"schema\": {\n                  \"type\": \"string\"\n                }\n              }\n            },\n            \"content\": {\n              \"application/json\": {\n                \"schema\": {\n                  \"$ref\": \"#/components/schemas/Pets\"\n                }\n              }\n            }\n          },\n          \"default\": {\n            \"description\": \"unexpected error\",\n            \"content\": {\n              \"application/json\": {\n                \"schema\": {\n                  \"$ref\": \"#/components/schemas/Error\"\n                }\n              }\n            }\n          }\n        }\n      },\n      \"post\": {\n        \"summary\": \"Create a pet\",\n        \"operationId\": \"createPets\",\n        \"tags\": [\n          \"pets\"\n        ],\n        \"responses\": {\n          \"201\": {\n            \"description\": \"Null response\"\n          },\n          \"default\": {\n            \"description\": \"unexpected error\",\n            \"content\": {\n              \"application/json\": {\n                \"schema\": {\n                  \"$ref\": \"#/components/schemas/Error\"\n                }\n              }\n            }\n          }\n        }\n      }\n    },\n    \"/pets/{petId}\": {\n      \"get\": {\n        \"summary\": \"Info for a specific pet\",\n        \"operationId\": \"showPetById\",\n        \"tags\": [\n          \"pets\"\n        ],\n        \"parameters\": [\n          {\n            \"name\": \"petId\",\n            \"in\": \"path\",\n            \"required\": true,\n            \"description\": \"The id of the pet to retrieve\",\n            \"schema\": {\n              \"type\": \"string\"\n            }\n          }\n        ],\n        \"responses\": {\n          \"200\": {\n            \"description\": \"Expected response to a valid request\",\n            \"content\": {\n              \"application/json\": {\n                \"schema\": {\n                  \"$ref\": \"#/components/schemas/Pet\"\n                }\n              }\n            }\n          },\n          \"default\": {\n            \"description\": \"unexpected error\",\n            \"content\": {\n              \"application/json\": {\n                \"schema\": {\n                  \"$ref\": \"#/components/schemas/Error\"\n                }\n              }\n            }\n          }\n        }\n      }\n    }\n  },\n  \"components\": {\n    \"schemas\": {\n      \"Pet\": {\n        \"type\": \"object\",\n        \"required\": [\n          \"id\",\n          \"name\"\n        ],\n        \"properties\": {\n          \"id\": {\n            \"type\": \"integer\",\n            \"format\": \"int64\"\n          },\n          \"name\": {\n            \"type\": \"string\"\n          },\n          \"tag\": {\n            \"type\": \"string\"\n          }\n        }\n      },\n      \"Pets\": {\n        \"type\": \"array\",\n        \"maxItems\": 100,\n        \"items\": {\n          \"$ref\": \"#/components/schemas/Pet\"\n        }\n      },\n      \"Error\": {\n        \"type\": \"object\",\n        \"required\": [\n          \"code\",\n          \"message\"\n        ],\n        \"properties\": {\n          \"code\": {\n            \"type\": \"integer\",\n            \"format\": \"int32\"\n          },\n          \"message\": {\n            \"type\": \"string\"\n          }\n        }\n      }\n    }\n  }\n}\n\"\"\"",
            "execution_count": 24,
            "outputs": []
        },
        {
            "metadata": {
                "trusted": true,
                "height": 30
            },
            "id": "653156d4-d6a4-499b-aab3-cf4f7b1f0c47",
            "cell_type": "code",
            "source": "spec = OpenAPISpec.from_text(text)",
            "execution_count": 25,
            "outputs": [
                {
                    "output_type": "stream",
                    "text": "Attempting to load an OpenAPI 3.0.0 spec.  This may result in degraded performance. Convert your OpenAPI spec to 3.1.* spec for better support.\n",
                    "name": "stderr"
                }
            ]
        },
        {
            "metadata": {
                "trusted": true,
                "height": 45
            },
            "id": "d9ba6100-3c88-4b05-af93-784b57bf7424",
            "cell_type": "code",
            "source": "pet_openai_functions, pet_callables = openapi_spec_to_openai_fn(spec)",
            "execution_count": 26,
            "outputs": []
        },
        {
            "metadata": {
                "trusted": true,
                "height": 30
            },
            "id": "91199697-c662-438f-8c68-e6daa8aad07d",
            "cell_type": "code",
            "source": "pet_openai_functions",
            "execution_count": 27,
            "outputs": [
                {
                    "output_type": "execute_result",
                    "execution_count": 27,
                    "data": {
                        "text/plain": "[{'name': 'listPets',\n  'description': 'List all pets',\n  'parameters': {'type': 'object',\n   'properties': {'params': {'type': 'object',\n     'properties': {'limit': {'type': 'integer',\n       'maximum': 100.0,\n       'schema_format': 'int32',\n       'description': 'How many items to return at one time (max 100)'}},\n     'required': []}}}},\n {'name': 'createPets',\n  'description': 'Create a pet',\n  'parameters': {'type': 'object', 'properties': {}}},\n {'name': 'showPetById',\n  'description': 'Info for a specific pet',\n  'parameters': {'type': 'object',\n   'properties': {'path_params': {'type': 'object',\n     'properties': {'petId': {'type': 'string',\n       'description': 'The id of the pet to retrieve'}},\n     'required': ['petId']}}}}]"
                    },
                    "metadata": {}
                }
            ]
        },
        {
            "metadata": {
                "trusted": true,
                "height": 45
            },
            "id": "ae8b3c1b-7a30-4b1b-abfd-e56f90b1d166",
            "cell_type": "code",
            "source": "from langchain.chat_models import ChatOpenAI",
            "execution_count": 28,
            "outputs": []
        },
        {
            "metadata": {
                "trusted": true,
                "height": 45
            },
            "id": "ed100888-f3d4-4739-bba5-f839033850a3",
            "cell_type": "code",
            "source": "model = ChatOpenAI(temperature=0).bind(functions=pet_openai_functions)",
            "execution_count": 29,
            "outputs": []
        },
        {
            "metadata": {
                "trusted": true,
                "height": 45
            },
            "id": "4063cdea-627c-4cc1-a2b5-9b5b6dcf179e",
            "cell_type": "code",
            "source": "model.invoke(\"what are three pets names\")",
            "execution_count": 30,
            "outputs": [
                {
                    "output_type": "execute_result",
                    "execution_count": 30,
                    "data": {
                        "text/plain": "AIMessage(content='', additional_kwargs={'function_call': {'name': 'listPets', 'arguments': '{\\n  \"params\": {\\n    \"limit\": 3\\n  }\\n}'}})"
                    },
                    "metadata": {}
                }
            ]
        },
        {
            "metadata": {
                "trusted": true,
                "height": 45
            },
            "id": "3a1f5534-cf06-4baf-b710-f169ea7434ac",
            "cell_type": "code",
            "source": "model.invoke(\"tell me about pet with id 42\")",
            "execution_count": 31,
            "outputs": [
                {
                    "output_type": "execute_result",
                    "execution_count": 31,
                    "data": {
                        "text/plain": "AIMessage(content='', additional_kwargs={'function_call': {'name': 'showPetById', 'arguments': '{\\n  \"path_params\": {\\n    \"petId\": \"42\"\\n  }\\n}'}})"
                    },
                    "metadata": {}
                }
            ]
        },
        {
            "metadata": {},
            "id": "198b21dd-c9de-491d-9a0c-71ae56727689",
            "cell_type": "markdown",
            "source": "### Routing\n\nIn lesson 3, we show an example of function calling deciding between two candidate functions.\n\nGiven our tools above, let's format these as OpenAI functions and show this same behavior."
        },
        {
            "metadata": {
                "trusted": true,
                "height": 130
            },
            "id": "8137758c-c5d3-47df-9062-5e31d43657e7",
            "cell_type": "code",
            "source": "functions = [\n    format_tool_to_openai_function(f) for f in [\n        search_wikipedia, get_current_temperature\n    ]\n]\nmodel = ChatOpenAI(temperature=0).bind(functions=functions)",
            "execution_count": 32,
            "outputs": []
        },
        {
            "metadata": {
                "trusted": true,
                "height": 45
            },
            "id": "99120542-36bc-4ed1-aa9e-e2294e282c81",
            "cell_type": "code",
            "source": "model.invoke(\"what is the weather in sf right now\")",
            "execution_count": 33,
            "outputs": [
                {
                    "output_type": "execute_result",
                    "execution_count": 33,
                    "data": {
                        "text/plain": "AIMessage(content='', additional_kwargs={'function_call': {'name': 'get_current_temperature', 'arguments': '{\\n  \"latitude\": 37.7749,\\n  \"longitude\": -122.4194\\n}'}})"
                    },
                    "metadata": {}
                }
            ]
        },
        {
            "metadata": {
                "trusted": true,
                "height": 30
            },
            "id": "a20047d9-4b34-4e6c-9407-570af1559bc8",
            "cell_type": "code",
            "source": "model.invoke(\"what is langchain\")",
            "execution_count": 34,
            "outputs": [
                {
                    "output_type": "execute_result",
                    "execution_count": 34,
                    "data": {
                        "text/plain": "AIMessage(content='', additional_kwargs={'function_call': {'name': 'search_wikipedia', 'arguments': '{\\n  \"query\": \"langchain\"\\n}'}})"
                    },
                    "metadata": {}
                }
            ]
        },
        {
            "metadata": {
                "trusted": true,
                "height": 130
            },
            "id": "831a0506-1d5c-4bc3-b67f-24e201a4fa6d",
            "cell_type": "code",
            "source": "from langchain.prompts import ChatPromptTemplate\nprompt = ChatPromptTemplate.from_messages([\n    (\"system\", \"You are helpful but sassy assistant\"),\n    (\"user\", \"{input}\"),\n])\nchain = prompt | model",
            "execution_count": 35,
            "outputs": []
        },
        {
            "metadata": {
                "trusted": true,
                "height": 45
            },
            "id": "d9c32ccc-6691-4dd5-98dc-aabf02563ad5",
            "cell_type": "code",
            "source": "chain.invoke({\"input\": \"what is the weather in sf right now\"})",
            "execution_count": 36,
            "outputs": [
                {
                    "output_type": "execute_result",
                    "execution_count": 36,
                    "data": {
                        "text/plain": "AIMessage(content='', additional_kwargs={'function_call': {'name': 'get_current_temperature', 'arguments': '{\\n  \"latitude\": 37.7749,\\n  \"longitude\": -122.4194\\n}'}})"
                    },
                    "metadata": {}
                }
            ]
        },
        {
            "metadata": {
                "trusted": true,
                "height": 45
            },
            "id": "921e808c-6618-4d2f-85df-1f3089497724",
            "cell_type": "code",
            "source": "from langchain.agents.output_parsers import OpenAIFunctionsAgentOutputParser",
            "execution_count": 37,
            "outputs": []
        },
        {
            "metadata": {
                "trusted": true,
                "height": 45
            },
            "id": "094baef1-4140-41f4-9111-ff9710826e6b",
            "cell_type": "code",
            "source": "chain = prompt | model | OpenAIFunctionsAgentOutputParser()",
            "execution_count": 38,
            "outputs": []
        },
        {
            "metadata": {
                "trusted": true,
                "height": 45
            },
            "id": "f105e8e8-d418-4d4a-95eb-52636d4e890f",
            "cell_type": "code",
            "source": "result = chain.invoke({\"input\": \"what is the weather in sf right now\"})",
            "execution_count": 39,
            "outputs": []
        },
        {
            "metadata": {
                "trusted": true,
                "height": 30
            },
            "id": "409b26c0-a1e0-4225-ae2e-396c1f76bf0a",
            "cell_type": "code",
            "source": "type(result)",
            "execution_count": 40,
            "outputs": [
                {
                    "output_type": "execute_result",
                    "execution_count": 40,
                    "data": {
                        "text/plain": "langchain.schema.agent.AgentActionMessageLog"
                    },
                    "metadata": {}
                }
            ]
        },
        {
            "metadata": {
                "trusted": true,
                "height": 30
            },
            "id": "9cdde008-4b11-4ab2-a01c-6ae394a7dccf",
            "cell_type": "code",
            "source": "result.tool",
            "execution_count": 41,
            "outputs": [
                {
                    "output_type": "execute_result",
                    "execution_count": 41,
                    "data": {
                        "text/plain": "'get_current_temperature'"
                    },
                    "metadata": {}
                }
            ]
        },
        {
            "metadata": {
                "trusted": true,
                "height": 30
            },
            "id": "66ffb308-3d77-4acb-b4b5-e2b0d38f3860",
            "cell_type": "code",
            "source": "result.tool_input",
            "execution_count": 42,
            "outputs": [
                {
                    "output_type": "execute_result",
                    "execution_count": 42,
                    "data": {
                        "text/plain": "{'latitude': 37.7749, 'longitude': -122.4194}"
                    },
                    "metadata": {}
                }
            ]
        },
        {
            "metadata": {
                "trusted": true,
                "height": 45
            },
            "id": "07e661b1-6d0d-43b9-9de4-19c6cceff291",
            "cell_type": "code",
            "source": "get_current_temperature(result.tool_input)",
            "execution_count": 43,
            "outputs": [
                {
                    "output_type": "execute_result",
                    "execution_count": 43,
                    "data": {
                        "text/plain": "'The current temperature is 14.4°C'"
                    },
                    "metadata": {}
                }
            ]
        },
        {
            "metadata": {
                "trusted": true,
                "height": 45
            },
            "id": "057e3072-a203-4a5e-b1f6-b250cd7bd33b",
            "cell_type": "code",
            "source": "result = chain.invoke({\"input\": \"hi!\"})",
            "execution_count": 44,
            "outputs": []
        },
        {
            "metadata": {
                "trusted": true,
                "height": 30
            },
            "id": "5be6bc0f-5b81-49fa-ac16-b8896847d87a",
            "cell_type": "code",
            "source": "type(result)",
            "execution_count": 45,
            "outputs": [
                {
                    "output_type": "execute_result",
                    "execution_count": 45,
                    "data": {
                        "text/plain": "langchain.schema.agent.AgentFinish"
                    },
                    "metadata": {}
                }
            ]
        },
        {
            "metadata": {
                "trusted": true,
                "height": 30
            },
            "id": "dd128d20-f552-4cc5-a45e-f47b58c9982b",
            "cell_type": "code",
            "source": "result.return_values",
            "execution_count": 46,
            "outputs": [
                {
                    "output_type": "execute_result",
                    "execution_count": 46,
                    "data": {
                        "text/plain": "{'output': 'Hello! How can I assist you today?'}"
                    },
                    "metadata": {}
                }
            ]
        },
        {
            "metadata": {
                "trusted": true,
                "height": 198
            },
            "id": "134f422a-b72b-40df-9552-cf9f9fc2d780",
            "cell_type": "code",
            "source": "from langchain.schema.agent import AgentFinish\ndef route(result):\n    if isinstance(result, AgentFinish):\n        return result.return_values['output']\n    else:\n        tools = {\n            \"search_wikipedia\": search_wikipedia, \n            \"get_current_temperature\": get_current_temperature,\n        }\n        return tools[result.tool].run(result.tool_input)",
            "execution_count": 47,
            "outputs": []
        },
        {
            "metadata": {
                "trusted": true,
                "height": 45
            },
            "id": "8fefc329-b270-4ebb-b884-430e4e541e7f",
            "cell_type": "code",
            "source": "chain = prompt | model | OpenAIFunctionsAgentOutputParser() | route",
            "execution_count": 48,
            "outputs": []
        },
        {
            "metadata": {
                "trusted": true,
                "height": 45
            },
            "id": "b2dcb4b2-0e0d-425b-bff8-db7cd33afa16",
            "cell_type": "code",
            "source": "result = chain.invoke({\"input\": \"What is the weather in san francisco right now?\"})",
            "execution_count": 49,
            "outputs": []
        },
        {
            "metadata": {
                "trusted": true,
                "height": 30
            },
            "id": "498d487b-ceba-4e9f-8a24-0f8c27438a18",
            "cell_type": "code",
            "source": "result",
            "execution_count": 50,
            "outputs": [
                {
                    "output_type": "execute_result",
                    "execution_count": 50,
                    "data": {
                        "text/plain": "'The current temperature is 14.4°C'"
                    },
                    "metadata": {}
                }
            ]
        },
        {
            "metadata": {
                "trusted": true,
                "height": 45
            },
            "id": "6c93eb1b-044f-4c52-bcd4-dcd0e01f42e8",
            "cell_type": "code",
            "source": "result = chain.invoke({\"input\": \"What is langchain?\"})",
            "execution_count": 51,
            "outputs": []
        },
        {
            "metadata": {
                "scrolled": true,
                "trusted": true,
                "height": 30
            },
            "id": "5c0de3e7-2367-4cef-b3dd-efa69b701061",
            "cell_type": "code",
            "source": "result",
            "execution_count": 52,
            "outputs": [
                {
                    "output_type": "execute_result",
                    "execution_count": 52,
                    "data": {
                        "text/plain": "'Page: LangChain\\nSummary: LangChain is a framework designed to simplify the creation of applications using large language models (LLMs). As a language model integration framework, LangChain\\'s use-cases largely overlap with those of language models in general, including document analysis and summarization, chatbots, and code analysis.\\n\\nPage: Sentence embedding\\nSummary: In natural language processing, a sentence embedding refers to a numeric representation of a sentence in the form of a vector of real numbers which encodes meaningful semantic information.State of the art embeddings are based on the learned hidden layer representation of dedicated sentence transformer models. BERT pioneered an approach involving the use of a dedicated [CLS] token prepended to the beginning of each sentence inputted into the model; the final hidden state vector of this token encodes information about the sentence and can be fine-tuned for use in sentence classification tasks. In practice however, BERT\\'s sentence embedding with the [CLS] token achieves poor performance, often worse than simply averaging non-contextual word embeddings. SBERT later achieved superior sentence embedding performance by fine tuning BERT\\'s [CLS] token embeddings through the usage of a siamese neural network architecture on the SNLI dataset. \\nOther approaches are loosely based on the idea of distributional semantics applied to sentences. Skip-Thought trains an encoder-decoder structure for the task of neighboring sentences predictions. Though this has been shown to achieve worse performance than approaches such as InferSent or SBERT. \\nAn alternative direction is to aggregate word embeddings, such as those returned by Word2vec, into sentence embeddings. The most straightforward approach is to simply compute the average of word vectors, known as continuous bag-of-words (CBOW). However, more elaborate solutions based on word vector quantization have also been proposed. One such approach is the vector of locally aggregated word embeddings (VLAWE), which demonstrated performance improvements in downstream text classification tasks.\\n\\nPage: Prompt engineering\\nSummary: Prompt engineering is the process of structuring text that can be interpreted and understood by a generative AI model. A prompt is natural language text describing the task that an AI should perform.A prompt for a text-to-text model can be a query such as \"what is Fermat\\'s little theorem?\", a command such as \"write a poem about leaves falling\", a short statement of feedback (for example, \"too verbose\", \"too formal\", \"rephrase again\", \"omit this word\") or a longer statement including context, instructions, and input data. Prompt engineering may involve phrasing a query, specifying a style, providing relevant context or assigning a role to the AI such as \"Act as a native French speaker\". A prompt may include a few examples for a model to learn from, such as \"maison -> house, chat -> cat, chien ->\", an approach called few-shot learning.When communicating with a text-to-image or a text-to-audio model, a typical prompt is a description of a desired output such as \"a high-quality photo of an astronaut riding a horse\" or \"Lo-fi slow BPM electro chill with organic samples\". Prompting a text-to-image model may involve adding, removing, emphasizing and re-ordering words to achieve a desired subject, style, layout, lighting, and aesthetic.'"
                    },
                    "metadata": {}
                }
            ]
        },
        {
            "metadata": {
                "trusted": true,
                "height": 30
            },
            "id": "a353363e-27b8-440f-a8b7-31bc2e861a42",
            "cell_type": "code",
            "source": "chain.invoke({\"input\": \"hi!\"})",
            "execution_count": 53,
            "outputs": [
                {
                    "output_type": "execute_result",
                    "execution_count": 53,
                    "data": {
                        "text/plain": "'Hello! How can I assist you today?'"
                    },
                    "metadata": {}
                }
            ]
        },
        {
            "metadata": {
                "trusted": true,
                "height": 30
            },
            "id": "1e1570d2-6215-4f24-802d-14e75db4319a",
            "cell_type": "code",
            "source": "",
            "execution_count": null,
            "outputs": []
        },
        {
            "metadata": {
                "trusted": true,
                "height": 30
            },
            "id": "ca1bf47c-a050-47ab-a840-b3a67e2b69cc",
            "cell_type": "code",
            "source": "",
            "execution_count": null,
            "outputs": []
        },
        {
            "metadata": {
                "trusted": true,
                "height": 30
            },
            "id": "d2124caf-4362-4608-996d-5cdff95551d7",
            "cell_type": "code",
            "source": "",
            "execution_count": null,
            "outputs": []
        },
        {
            "metadata": {
                "trusted": true,
                "height": 30
            },
            "id": "ad6ca0db-6b1d-4d8e-8c63-3a485607fbd9",
            "cell_type": "code",
            "source": "",
            "execution_count": null,
            "outputs": []
        },
        {
            "metadata": {
                "trusted": true,
                "height": 30
            },
            "id": "0f0ed82c-8e26-44b3-a1ea-67143ab65161",
            "cell_type": "code",
            "source": "",
            "execution_count": null,
            "outputs": []
        },
        {
            "metadata": {
                "trusted": true,
                "height": 30
            },
            "id": "1c9b8542-7719-412c-b240-958ea8bdbbef",
            "cell_type": "code",
            "source": "",
            "execution_count": null,
            "outputs": []
        },
        {
            "metadata": {
                "trusted": true,
                "height": 30
            },
            "id": "83233f7c-3820-4697-80a6-c25423cc7b26",
            "cell_type": "code",
            "source": "",
            "execution_count": null,
            "outputs": []
        },
        {
            "metadata": {
                "trusted": true,
                "height": 30
            },
            "id": "4a950c46-1a8c-4807-9cc4-373264aaa9dc",
            "cell_type": "code",
            "source": "",
            "execution_count": null,
            "outputs": []
        },
        {
            "metadata": {
                "trusted": true,
                "height": 30
            },
            "id": "b11cf095-9583-4206-8155-2a9acd5a4aad",
            "cell_type": "code",
            "source": "",
            "execution_count": null,
            "outputs": []
        },
        {
            "metadata": {
                "trusted": true,
                "height": 30
            },
            "id": "181b3737-eb4d-452a-b018-a1289f7f0d41",
            "cell_type": "code",
            "source": "",
            "execution_count": null,
            "outputs": []
        }
    ],
    "metadata": {
        "kernelspec": {
            "name": "python3",
            "display_name": "Python 3 (ipykernel)",
            "language": "python"
        },
        "language_info": {
            "name": "python",
            "version": "3.9.18",
            "mimetype": "text/x-python",
            "codemirror_mode": {
                "name": "ipython",
                "version": 3
            },
            "pygments_lexer": "ipython3",
            "nbconvert_exporter": "python",
            "file_extension": ".py"
        }
    },
    "nbformat": 4,
    "nbformat_minor": 5
}
