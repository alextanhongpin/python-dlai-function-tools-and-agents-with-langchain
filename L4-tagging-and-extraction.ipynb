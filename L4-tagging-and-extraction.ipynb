{
    "cells": [
        {
            "metadata": {},
            "id": "16de7336",
            "cell_type": "markdown",
            "source": "# Tagging and Extraction Using OpenAI functions"
        },
        {
            "metadata": {
                "tags": [],
                "trusted": true,
                "height": 115
            },
            "id": "cb41f5f4-df8d-4d04-9eaa-193b8c29b00b",
            "cell_type": "code",
            "source": "import os\nimport openai\n\nfrom dotenv import load_dotenv, find_dotenv\n_ = load_dotenv(find_dotenv()) # read local .env file\nopenai.api_key = os.environ['OPENAI_API_KEY']",
            "execution_count": 1,
            "outputs": []
        },
        {
            "metadata": {
                "trusted": true,
                "height": 79
            },
            "id": "bfb2ede9-b0b4-4c8c-b00f-9a9911f38614",
            "cell_type": "code",
            "source": "from typing import List\nfrom pydantic import BaseModel, Field\nfrom langchain.utils.openai_functions import convert_pydantic_to_openai_function",
            "execution_count": 2,
            "outputs": []
        },
        {
            "metadata": {
                "trusted": true,
                "height": 96
            },
            "id": "b3ae5481-4155-4831-a5dd-4c183b3b4990",
            "cell_type": "code",
            "source": "class Tagging(BaseModel):\n    \"\"\"Tag the piece of text with particular info.\"\"\"\n    sentiment: str = Field(description=\"sentiment of text, should be `pos`, `neg`, or `neutral`\")\n    language: str = Field(description=\"language of text (should be ISO 639-1 code)\")",
            "execution_count": 3,
            "outputs": []
        },
        {
            "metadata": {
                "trusted": true,
                "height": 30
            },
            "id": "3cd656b2-62be-49d4-a277-b920c67203c1",
            "cell_type": "code",
            "source": "convert_pydantic_to_openai_function(Tagging)",
            "execution_count": 4,
            "outputs": [
                {
                    "output_type": "execute_result",
                    "execution_count": 4,
                    "data": {
                        "text/plain": "{'name': 'Tagging',\n 'description': 'Tag the piece of text with particular info.',\n 'parameters': {'title': 'Tagging',\n  'description': 'Tag the piece of text with particular info.',\n  'type': 'object',\n  'properties': {'sentiment': {'title': 'Sentiment',\n    'description': 'sentiment of text, should be `pos`, `neg`, or `neutral`',\n    'type': 'string'},\n   'language': {'title': 'Language',\n    'description': 'language of text (should be ISO 639-1 code)',\n    'type': 'string'}},\n  'required': ['sentiment', 'language']}}"
                    },
                    "metadata": {}
                }
            ]
        },
        {
            "metadata": {
                "trusted": true,
                "height": 47
            },
            "id": "ed8b15a7-450c-43d6-af44-ca63800a4619",
            "cell_type": "code",
            "source": "from langchain.prompts import ChatPromptTemplate\nfrom langchain.chat_models import ChatOpenAI",
            "execution_count": 5,
            "outputs": []
        },
        {
            "metadata": {
                "trusted": true,
                "height": 30
            },
            "id": "2cc5bac3-3783-4ce7-9de6-83c905fba7c5",
            "cell_type": "code",
            "source": "model = ChatOpenAI(temperature=0)",
            "execution_count": 6,
            "outputs": []
        },
        {
            "metadata": {
                "trusted": true,
                "height": 45
            },
            "id": "798ac5b3-7e47-4cfb-8173-63900cf1e7f6",
            "cell_type": "code",
            "source": "tagging_functions = [convert_pydantic_to_openai_function(Tagging)]",
            "execution_count": 7,
            "outputs": []
        },
        {
            "metadata": {
                "trusted": true,
                "height": 96
            },
            "id": "9d558031-18cf-4791-b061-8911ce314605",
            "cell_type": "code",
            "source": "prompt = ChatPromptTemplate.from_messages([\n    (\"system\", \"Think carefully, and then tag the text as instructed\"),\n    (\"user\", \"{input}\")\n])",
            "execution_count": 8,
            "outputs": []
        },
        {
            "metadata": {
                "trusted": true,
                "height": 81
            },
            "id": "00607aff-a64e-42b7-8cf4-893e8393dd33",
            "cell_type": "code",
            "source": "model_with_functions = model.bind(\n    functions=tagging_functions,\n    function_call={\"name\": \"Tagging\"}\n)",
            "execution_count": 9,
            "outputs": []
        },
        {
            "metadata": {
                "trusted": true,
                "height": 30
            },
            "id": "1d0bc519-2b8e-40d0-88ec-fc5ef0291f16",
            "cell_type": "code",
            "source": "tagging_chain = prompt | model_with_functions",
            "execution_count": 10,
            "outputs": []
        },
        {
            "metadata": {
                "trusted": true,
                "height": 30
            },
            "id": "8688fdba-0996-446c-a77b-318094944998",
            "cell_type": "code",
            "source": "tagging_chain.invoke({\"input\": \"I love langchain\"})",
            "execution_count": 11,
            "outputs": [
                {
                    "output_type": "execute_result",
                    "execution_count": 11,
                    "data": {
                        "text/plain": "AIMessage(content='', additional_kwargs={'function_call': {'name': 'Tagging', 'arguments': '{\\n  \"sentiment\": \"pos\",\\n  \"language\": \"en\"\\n}'}})"
                    },
                    "metadata": {}
                }
            ]
        },
        {
            "metadata": {
                "trusted": true,
                "height": 30
            },
            "id": "7df9aac5-7194-4a12-bda7-e7e83e705929",
            "cell_type": "code",
            "source": "tagging_chain.invoke({\"input\": \"non mi piace questo cibo\"})",
            "execution_count": 12,
            "outputs": [
                {
                    "output_type": "execute_result",
                    "execution_count": 12,
                    "data": {
                        "text/plain": "AIMessage(content='', additional_kwargs={'function_call': {'name': 'Tagging', 'arguments': '{\\n  \"sentiment\": \"neg\",\\n  \"language\": \"it\"\\n}'}})"
                    },
                    "metadata": {}
                }
            ]
        },
        {
            "metadata": {
                "trusted": true,
                "height": 45
            },
            "id": "0749e408-3878-4ddd-ad33-8d5b8418a3f2",
            "cell_type": "code",
            "source": "from langchain.output_parsers.openai_functions import JsonOutputFunctionsParser",
            "execution_count": 13,
            "outputs": []
        },
        {
            "metadata": {
                "trusted": true,
                "height": 45
            },
            "id": "dc45243e-7225-427d-b679-d737ebaec780",
            "cell_type": "code",
            "source": "tagging_chain = prompt | model_with_functions | JsonOutputFunctionsParser()",
            "execution_count": 14,
            "outputs": []
        },
        {
            "metadata": {
                "trusted": true,
                "height": 30
            },
            "id": "7ba84e64-518c-40e1-a7c9-d174314bc3fb",
            "cell_type": "code",
            "source": "tagging_chain.invoke({\"input\": \"non mi piace questo cibo\"})",
            "execution_count": 15,
            "outputs": [
                {
                    "output_type": "execute_result",
                    "execution_count": 15,
                    "data": {
                        "text/plain": "{'sentiment': 'neg', 'language': 'it'}"
                    },
                    "metadata": {}
                }
            ]
        },
        {
            "metadata": {},
            "id": "92e417b4-9306-413f-865f-e13dbd2d0196",
            "cell_type": "markdown",
            "source": "## Extraction\n\nExtraction is similar to tagging, but used for extracting multiple pieces of information."
        },
        {
            "metadata": {
                "trusted": true,
                "height": 98
            },
            "id": "97338dce-a61a-4f8b-912c-6108dcb86183",
            "cell_type": "code",
            "source": "from typing import Optional\nclass Person(BaseModel):\n    \"\"\"Information about a person.\"\"\"\n    name: str = Field(description=\"person's name\")\n    age: Optional[int] = Field(description=\"person's age\")",
            "execution_count": 16,
            "outputs": []
        },
        {
            "metadata": {
                "trusted": true,
                "height": 79
            },
            "id": "f558fb45-f3a5-47be-8778-dddec2d00ba1",
            "cell_type": "code",
            "source": "class Information(BaseModel):\n    \"\"\"Information to extract.\"\"\"\n    people: List[Person] = Field(description=\"List of info about people\")",
            "execution_count": 17,
            "outputs": []
        },
        {
            "metadata": {
                "trusted": true,
                "height": 30
            },
            "id": "5eeb6028-0ade-46f6-a899-ca10f185bb24",
            "cell_type": "code",
            "source": "convert_pydantic_to_openai_function(Information)",
            "execution_count": 18,
            "outputs": [
                {
                    "output_type": "execute_result",
                    "execution_count": 18,
                    "data": {
                        "text/plain": "{'name': 'Information',\n 'description': 'Information to extract.',\n 'parameters': {'title': 'Information',\n  'description': 'Information to extract.',\n  'type': 'object',\n  'properties': {'people': {'title': 'People',\n    'description': 'List of info about people',\n    'type': 'array',\n    'items': {'title': 'Person',\n     'description': 'Information about a person.',\n     'type': 'object',\n     'properties': {'name': {'title': 'Name',\n       'description': \"person's name\",\n       'type': 'string'},\n      'age': {'title': 'Age',\n       'description': \"person's age\",\n       'type': 'integer'}},\n     'required': ['name']}}},\n  'required': ['people']}}"
                    },
                    "metadata": {}
                }
            ]
        },
        {
            "metadata": {
                "trusted": true,
                "height": 62
            },
            "id": "f16ce50e-bad7-4fbb-b9e2-0adae6fc55f2",
            "cell_type": "code",
            "source": "extraction_functions = [convert_pydantic_to_openai_function(Information)]\nextraction_model = model.bind(functions=extraction_functions, function_call={\"name\": \"Information\"})",
            "execution_count": 19,
            "outputs": []
        },
        {
            "metadata": {
                "trusted": true,
                "height": 30
            },
            "id": "3ed58069-3f7c-433e-93ed-5660d21435c9",
            "cell_type": "code",
            "source": "extraction_model.invoke(\"Joe is 30, his mom is Martha\")",
            "execution_count": 20,
            "outputs": [
                {
                    "output_type": "execute_result",
                    "execution_count": 20,
                    "data": {
                        "text/plain": "AIMessage(content='', additional_kwargs={'function_call': {'name': 'Information', 'arguments': '{\\n  \"people\": [\\n    {\\n      \"name\": \"Joe\",\\n      \"age\": 30\\n    },\\n    {\\n      \"name\": \"Martha\",\\n      \"age\": 0\\n    }\\n  ]\\n}'}})"
                    },
                    "metadata": {}
                }
            ]
        },
        {
            "metadata": {
                "trusted": true,
                "height": 96
            },
            "id": "172df097-250a-4813-b76d-21436c13056d",
            "cell_type": "code",
            "source": "prompt = ChatPromptTemplate.from_messages([\n    (\"system\", \"Extract the relevant information, if not explicitly provided do not guess. Extract partial info\"),\n    (\"human\", \"{input}\")\n])",
            "execution_count": 21,
            "outputs": []
        },
        {
            "metadata": {
                "trusted": true,
                "height": 30
            },
            "id": "dfec48d7-25a2-46d7-a7a2-33284b577dd3",
            "cell_type": "code",
            "source": "extraction_chain = prompt | extraction_model",
            "execution_count": 22,
            "outputs": []
        },
        {
            "metadata": {
                "trusted": true,
                "height": 45
            },
            "id": "f19622af-4b01-4145-ae5a-af15b551a182",
            "cell_type": "code",
            "source": "extraction_chain.invoke({\"input\": \"Joe is 30, his mom is Martha\"})",
            "execution_count": 23,
            "outputs": [
                {
                    "output_type": "execute_result",
                    "execution_count": 23,
                    "data": {
                        "text/plain": "AIMessage(content='', additional_kwargs={'function_call': {'name': 'Information', 'arguments': '{\\n  \"people\": [\\n    {\\n      \"name\": \"Joe\",\\n      \"age\": 30\\n    },\\n    {\\n      \"name\": \"Martha\"\\n    }\\n  ]\\n}'}})"
                    },
                    "metadata": {}
                }
            ]
        },
        {
            "metadata": {
                "trusted": true,
                "height": 45
            },
            "id": "38989431-9a61-461e-a86f-61a7dddab63c",
            "cell_type": "code",
            "source": "extraction_chain = prompt | extraction_model | JsonOutputFunctionsParser()",
            "execution_count": 24,
            "outputs": []
        },
        {
            "metadata": {
                "trusted": true,
                "height": 45
            },
            "id": "13ac89c9-1e8d-4e11-8bca-909a6c34d23c",
            "cell_type": "code",
            "source": "extraction_chain.invoke({\"input\": \"Joe is 30, his mom is Martha\"})",
            "execution_count": 25,
            "outputs": [
                {
                    "output_type": "execute_result",
                    "execution_count": 25,
                    "data": {
                        "text/plain": "{'people': [{'name': 'Joe', 'age': 30}, {'name': 'Martha'}]}"
                    },
                    "metadata": {}
                }
            ]
        },
        {
            "metadata": {
                "trusted": true,
                "height": 45
            },
            "id": "f8db4b39-c28b-4c0e-8b9a-55ceb8ba817e",
            "cell_type": "code",
            "source": "from langchain.output_parsers.openai_functions import JsonKeyOutputFunctionsParser",
            "execution_count": 26,
            "outputs": []
        },
        {
            "metadata": {
                "trusted": true,
                "height": 45
            },
            "id": "2901d3ac-4dfc-4fb9-afd3-ab056489d3ae",
            "cell_type": "code",
            "source": "extraction_chain = prompt | extraction_model | JsonKeyOutputFunctionsParser(key_name=\"people\")",
            "execution_count": 27,
            "outputs": []
        },
        {
            "metadata": {
                "trusted": true,
                "height": 45
            },
            "id": "c7eff400-9f3a-42a8-ba4a-a3757e7939e2",
            "cell_type": "code",
            "source": "extraction_chain.invoke({\"input\": \"Joe is 30, his mom is Martha\"})",
            "execution_count": 28,
            "outputs": [
                {
                    "output_type": "execute_result",
                    "execution_count": 28,
                    "data": {
                        "text/plain": "[{'name': 'Joe', 'age': 30}, {'name': 'Martha'}]"
                    },
                    "metadata": {}
                }
            ]
        },
        {
            "metadata": {},
            "id": "3b8524f3-a663-4007-ad59-52dfe00343e9",
            "cell_type": "markdown",
            "source": "## Doing it for real\n\nWe can apply tagging to a larger body of text.\n\nFor example, let's load this blog post and extract tag information from a sub-set of the text."
        },
        {
            "metadata": {
                "trusted": true,
                "height": 79
            },
            "id": "bc7c4a8c-d4c8-4400-b1d3-5c7c0c25786e",
            "cell_type": "code",
            "source": "from langchain.document_loaders import WebBaseLoader\nloader = WebBaseLoader(\"https://lilianweng.github.io/posts/2023-06-23-agent/\")\ndocuments = loader.load()",
            "execution_count": 29,
            "outputs": []
        },
        {
            "metadata": {
                "trusted": true,
                "height": 30
            },
            "id": "dbd2e910-e0e0-447a-8118-6fe792f04e15",
            "cell_type": "code",
            "source": "doc = documents[0]",
            "execution_count": 30,
            "outputs": []
        },
        {
            "metadata": {
                "trusted": true,
                "height": 30
            },
            "id": "b5e39f78-ff18-4016-a751-7d0e4c82bb36",
            "cell_type": "code",
            "source": "page_content = doc.page_content[:10000]",
            "execution_count": 31,
            "outputs": []
        },
        {
            "metadata": {
                "scrolled": true,
                "trusted": true,
                "height": 30
            },
            "id": "bb8d98ee-e9b2-4ce8-982a-c06dc006da76",
            "cell_type": "code",
            "source": "print(page_content[:1000])",
            "execution_count": 32,
            "outputs": [
                {
                    "output_type": "stream",
                    "text": "\n\n\n\n\n\nLLM Powered Autonomous Agents | Lil'Log\n\n\n\n\n\n\n\n\n\n\n\n\n\n\n\n\n\n\n\n\n\n\n\n\n\n\n\n\n\n\n\n\n\n\n\n\n\n\n\nLil'Log\n\n\n\n\n\n\n\n\n\n\n\n\n\n\n\n\n\n\n\n\n\n\nPosts\n\n\n\n\nArchive\n\n\n\n\nSearch\n\n\n\n\nTags\n\n\n\n\nFAQ\n\n\n\n\nemojisearch.app\n\n\n\n\n\n\n\n\n\n      LLM Powered Autonomous Agents\n    \nJune 23, 2023 · 31 min · Lilian Weng\n\n\n \n\n\nTable of Contents\n\n\n\nAgent System Overview\n\nComponent One: Planning\n\nTask Decomposition\n\nSelf-Reflection\n\n\nComponent Two: Memory\n\nTypes of Memory\n\nMaximum Inner Product Search (MIPS)\n\n\nComponent Three: Tool Use\n\nCase Studies\n\nScientific Discovery Agent\n\nGenerative Agents Simulation\n\nProof-of-Concept Examples\n\n\nChallenges\n\nCitation\n\nReferences\n\n\n\n\n\nBuilding agents with LLM (large language model) as its core controller is a cool concept. Several proof-of-concepts demos, such as AutoGPT, GPT-Engineer and BabyAGI, serve as inspiring examples. The potentiality of LLM extends beyond generating well-written copies, stories, essays and programs; it can be framed as a powerful general problem solver.\nAgent System Overview#\nIn\n",
                    "name": "stdout"
                }
            ]
        },
        {
            "metadata": {
                "trusted": true,
                "height": 113
            },
            "id": "9db0d107-5284-4253-b769-dfedb97ce95d",
            "cell_type": "code",
            "source": "class Overview(BaseModel):\n    \"\"\"Overview of a section of text.\"\"\"\n    summary: str = Field(description=\"Provide a concise summary of the content.\")\n    language: str = Field(description=\"Provide the language that the content is written in.\")\n    keywords: str = Field(description=\"Provide keywords related to the content.\")",
            "execution_count": 33,
            "outputs": []
        },
        {
            "metadata": {
                "trusted": true,
                "height": 164
            },
            "id": "6bfe7fe6-a86d-416c-a7f2-373dc70fcba5",
            "cell_type": "code",
            "source": "overview_tagging_function = [\n    convert_pydantic_to_openai_function(Overview)\n]\ntagging_model = model.bind(\n    functions=overview_tagging_function,\n    function_call={\"name\":\"Overview\"}\n)\ntagging_chain = prompt | tagging_model | JsonOutputFunctionsParser()",
            "execution_count": 34,
            "outputs": []
        },
        {
            "metadata": {
                "trusted": true,
                "height": 30
            },
            "id": "518f2337-a8eb-4eff-b764-b70e48545d19",
            "cell_type": "code",
            "source": "tagging_chain.invoke({\"input\": page_content})",
            "execution_count": 35,
            "outputs": [
                {
                    "output_type": "execute_result",
                    "execution_count": 35,
                    "data": {
                        "text/plain": "{'summary': 'This article discusses the concept of building autonomous agents powered by LLM (large language model) as their core controller. It explores the key components of such agents, including planning, memory, and tool use. It also covers various techniques for task decomposition and self-reflection in autonomous agents.',\n 'language': 'English',\n 'keywords': 'LLM, autonomous agents, planning, memory, tool use, task decomposition, self-reflection'}"
                    },
                    "metadata": {}
                }
            ]
        },
        {
            "metadata": {
                "trusted": true,
                "height": 166
            },
            "id": "5be5d604-3d95-476a-afe4-b46b021534fc",
            "cell_type": "code",
            "source": "class Paper(BaseModel):\n    \"\"\"Information about papers mentioned.\"\"\"\n    title: str\n    author: Optional[str]\n\n\nclass Info(BaseModel):\n    \"\"\"Information to extract\"\"\"\n    papers: List[Paper]",
            "execution_count": 36,
            "outputs": []
        },
        {
            "metadata": {
                "trusted": true,
                "height": 164
            },
            "id": "8e56ca98-d05d-4199-a6ec-fe485b630da6",
            "cell_type": "code",
            "source": "paper_extraction_function = [\n    convert_pydantic_to_openai_function(Info)\n]\nextraction_model = model.bind(\n    functions=paper_extraction_function, \n    function_call={\"name\":\"Info\"}\n)\nextraction_chain = prompt | extraction_model | JsonKeyOutputFunctionsParser(key_name=\"papers\")",
            "execution_count": 37,
            "outputs": []
        },
        {
            "metadata": {
                "trusted": true,
                "height": 30
            },
            "id": "f082b7a0-b7ea-488a-923c-aba8e4b185a0",
            "cell_type": "code",
            "source": "extraction_chain.invoke({\"input\": page_content})",
            "execution_count": 38,
            "outputs": [
                {
                    "output_type": "execute_result",
                    "execution_count": 38,
                    "data": {
                        "text/plain": "[{'title': 'LLM Powered Autonomous Agents', 'author': 'Lilian Weng'}]"
                    },
                    "metadata": {}
                }
            ]
        },
        {
            "metadata": {
                "trusted": true,
                "height": 198
            },
            "id": "2a8dcce7-7032-49a8-893d-1659e2f51f03",
            "cell_type": "code",
            "source": "template = \"\"\"A article will be passed to you. Extract from it all papers that are mentioned by this article. \n\nDo not extract the name of the article itself. If no papers are mentioned that's fine - you don't need to extract any! Just return an empty list.\n\nDo not make up or guess ANY extra information. Only extract what exactly is in the text.\"\"\"\n\nprompt = ChatPromptTemplate.from_messages([\n    (\"system\", template),\n    (\"human\", \"{input}\")\n])",
            "execution_count": 39,
            "outputs": []
        },
        {
            "metadata": {
                "trusted": true,
                "height": 45
            },
            "id": "a5f4c8cc-d9a4-4556-a89e-94ec981c6f5e",
            "cell_type": "code",
            "source": "extraction_chain = prompt | extraction_model | JsonKeyOutputFunctionsParser(key_name=\"papers\")",
            "execution_count": 40,
            "outputs": []
        },
        {
            "metadata": {
                "trusted": true,
                "height": 30
            },
            "id": "b63e00b6-0f06-4e74-948e-04805e66f40c",
            "cell_type": "code",
            "source": "extraction_chain.invoke({\"input\": page_content})",
            "execution_count": 41,
            "outputs": [
                {
                    "output_type": "execute_result",
                    "execution_count": 41,
                    "data": {
                        "text/plain": "[{'title': 'Chain of thought (CoT; Wei et al. 2022)', 'author': 'Wei et al.'},\n {'title': 'Tree of Thoughts (Yao et al. 2023)', 'author': 'Yao et al.'},\n {'title': 'LLM+P (Liu et al. 2023)', 'author': 'Liu et al.'},\n {'title': 'ReAct (Yao et al. 2023)', 'author': 'Yao et al.'},\n {'title': 'Reflexion (Shinn & Labash 2023)', 'author': 'Shinn & Labash'},\n {'title': 'Chain of Hindsight (CoH; Liu et al. 2023)',\n  'author': 'Liu et al.'},\n {'title': 'Algorithm Distillation (AD; Laskin et al. 2023)',\n  'author': 'Laskin et al.'}]"
                    },
                    "metadata": {}
                }
            ]
        },
        {
            "metadata": {
                "trusted": true,
                "height": 30
            },
            "id": "365bfa5b-f0d2-4a19-8db1-1b4a0f51703d",
            "cell_type": "code",
            "source": "extraction_chain.invoke({\"input\": \"hi\"})",
            "execution_count": 42,
            "outputs": [
                {
                    "output_type": "execute_result",
                    "execution_count": 42,
                    "data": {
                        "text/plain": "[]"
                    },
                    "metadata": {}
                }
            ]
        },
        {
            "metadata": {
                "trusted": true,
                "height": 62
            },
            "id": "7a3e18b5-0692-49dc-b589-5d4ae5a43fdd",
            "cell_type": "code",
            "source": "from langchain.text_splitter import RecursiveCharacterTextSplitter\ntext_splitter = RecursiveCharacterTextSplitter(chunk_overlap=0)",
            "execution_count": 43,
            "outputs": []
        },
        {
            "metadata": {
                "trusted": true,
                "height": 30
            },
            "id": "a851b07c-0f73-4cf1-801f-9832190db93a",
            "cell_type": "code",
            "source": "splits = text_splitter.split_text(doc.page_content)",
            "execution_count": 44,
            "outputs": []
        },
        {
            "metadata": {
                "trusted": true,
                "height": 30
            },
            "id": "fbd6fd3c-8fca-4f16-a256-a66577b48eb1",
            "cell_type": "code",
            "source": "len(splits)",
            "execution_count": 45,
            "outputs": [
                {
                    "output_type": "execute_result",
                    "execution_count": 45,
                    "data": {
                        "text/plain": "14"
                    },
                    "metadata": {}
                }
            ]
        },
        {
            "metadata": {
                "trusted": true,
                "height": 98
            },
            "id": "6f1309bf-16a5-43ef-aa8e-427cf5120938",
            "cell_type": "code",
            "source": "def flatten(matrix):\n    flat_list = []\n    for row in matrix:\n        flat_list += row\n    return flat_list",
            "execution_count": 46,
            "outputs": []
        },
        {
            "metadata": {
                "trusted": true,
                "height": 30
            },
            "id": "5af35566-8f5f-4e02-86d2-c1a97ca4e573",
            "cell_type": "code",
            "source": "flatten([[1, 2], [3, 4]])",
            "execution_count": 47,
            "outputs": [
                {
                    "output_type": "execute_result",
                    "execution_count": 47,
                    "data": {
                        "text/plain": "[1, 2, 3, 4]"
                    },
                    "metadata": {}
                }
            ]
        },
        {
            "metadata": {
                "scrolled": true,
                "trusted": true,
                "height": 30
            },
            "id": "b77be284-fca5-4ab0-ab36-b83b3ab53136",
            "cell_type": "code",
            "source": "print(splits[0])",
            "execution_count": 48,
            "outputs": [
                {
                    "output_type": "stream",
                    "text": "LLM Powered Autonomous Agents | Lil'Log\n\n\n\n\n\n\n\n\n\n\n\n\n\n\n\n\n\n\n\n\n\n\n\n\n\n\n\n\n\n\n\n\n\n\n\n\n\n\n\nLil'Log\n\n\n\n\n\n\n\n\n\n\n\n\n\n\n\n\n\n\n\n\n\n\nPosts\n\n\n\n\nArchive\n\n\n\n\nSearch\n\n\n\n\nTags\n\n\n\n\nFAQ\n\n\n\n\nemojisearch.app\n\n\n\n\n\n\n\n\n\n      LLM Powered Autonomous Agents\n    \nJune 23, 2023 · 31 min · Lilian Weng\n\n\n \n\n\nTable of Contents\n\n\n\nAgent System Overview\n\nComponent One: Planning\n\nTask Decomposition\n\nSelf-Reflection\n\n\nComponent Two: Memory\n\nTypes of Memory\n\nMaximum Inner Product Search (MIPS)\n\n\nComponent Three: Tool Use\n\nCase Studies\n\nScientific Discovery Agent\n\nGenerative Agents Simulation\n\nProof-of-Concept Examples\n\n\nChallenges\n\nCitation\n\nReferences\n\n\n\n\n\nBuilding agents with LLM (large language model) as its core controller is a cool concept. Several proof-of-concepts demos, such as AutoGPT, GPT-Engineer and BabyAGI, serve as inspiring examples. The potentiality of LLM extends beyond generating well-written copies, stories, essays and programs; it can be framed as a powerful general problem solver.\nAgent System Overview#\nIn a LLM-powered autonomous agent system, LLM functions as the agent’s brain, complemented by several key components:\n\nPlanning\n\nSubgoal and decomposition: The agent breaks down large tasks into smaller, manageable subgoals, enabling efficient handling of complex tasks.\nReflection and refinement: The agent can do self-criticism and self-reflection over past actions, learn from mistakes and refine them for future steps, thereby improving the quality of final results.\n\n\nMemory\n\nShort-term memory: I would consider all the in-context learning (See Prompt Engineering) as utilizing short-term memory of the model to learn.\nLong-term memory: This provides the agent with the capability to retain and recall (infinite) information over extended periods, often by leveraging an external vector store and fast retrieval.\n\n\nTool use\n\nThe agent learns to call external APIs for extra information that is missing from the model weights (often hard to change after pre-training), including current information, code execution capability, access to proprietary information sources and more.\n",
                    "name": "stdout"
                }
            ]
        },
        {
            "metadata": {
                "trusted": true,
                "height": 30
            },
            "id": "67bded5d-de85-488c-bd3f-d83acbcfea33",
            "cell_type": "code",
            "source": "from langchain.schema.runnable import RunnableLambda",
            "execution_count": 49,
            "outputs": []
        },
        {
            "metadata": {
                "trusted": true,
                "height": 79
            },
            "id": "04233d0a-fe44-45ed-9145-af3caaa86863",
            "cell_type": "code",
            "source": "prep = RunnableLambda(\n    lambda x: [{\"input\": doc} for doc in text_splitter.split_text(x)]\n)",
            "execution_count": 50,
            "outputs": []
        },
        {
            "metadata": {
                "trusted": true,
                "height": 30
            },
            "id": "fa8c2f1e-f3ac-4d9c-8ded-541778a32ef9",
            "cell_type": "code",
            "source": "prep.invoke(\"hi\")",
            "execution_count": 51,
            "outputs": [
                {
                    "output_type": "execute_result",
                    "execution_count": 51,
                    "data": {
                        "text/plain": "[{'input': 'hi'}]"
                    },
                    "metadata": {}
                }
            ]
        },
        {
            "metadata": {
                "trusted": true,
                "height": 30
            },
            "id": "3f7d0255-4b58-42c9-a747-44768a866633",
            "cell_type": "code",
            "source": "chain = prep | extraction_chain.map() | flatten",
            "execution_count": 52,
            "outputs": []
        },
        {
            "metadata": {
                "trusted": true,
                "height": 30
            },
            "id": "0dfa1f67-7246-4f4f-8967-4d7266df7b7a",
            "cell_type": "code",
            "source": "chain.invoke(doc.page_content)",
            "execution_count": 53,
            "outputs": [
                {
                    "output_type": "execute_result",
                    "execution_count": 53,
                    "data": {
                        "text/plain": "[{'title': 'Chain of thought (CoT; Wei et al. 2022)', 'author': ''},\n {'title': 'Tree of Thoughts (Yao et al. 2023)', 'author': ''},\n {'title': 'LLM+P (Liu et al. 2023)', 'author': ''},\n {'title': 'ReAct (Yao et al. 2023)', 'author': ''},\n {'title': 'Reflexion (Shinn & Labash 2023)', 'author': ''},\n {'title': 'Reflexion framework', 'author': 'Shinn & Labash'},\n {'title': 'Chain of Hindsight', 'author': 'Liu et al. 2023'},\n {'title': 'Algorithm Distillation', 'author': 'Laskin et al. 2023'},\n {'title': 'Algorithm Distillation', 'author': 'Laskin et al. 2023'},\n {'title': 'ED (expert distillation)', 'author': ''},\n {'title': 'RL^2', 'author': 'Duan et al. 2017'},\n {'title': 'LSH: Locality-Sensitive Hashing', 'author': ''},\n {'title': 'ANNOY: Approximate Nearest Neighbors Oh Yeah', 'author': ''},\n {'title': 'HNSW: Hierarchical Navigable Small World', 'author': ''},\n {'title': 'FAISS: Facebook AI Similarity Search', 'author': ''},\n {'title': 'ScaNN: Scalable Nearest Neighbors', 'author': ''},\n {'title': 'MRKL: Modular Reasoning, Knowledge and Language',\n  'author': 'Karpas et al. 2022'},\n {'title': 'TALM: Tool Augmented Language Models',\n  'author': 'Parisi et al. 2022'},\n {'title': 'Toolformer', 'author': 'Schick et al. 2023'},\n {'title': 'HuggingGPT', 'author': 'Shen et al. 2023'},\n {'title': 'API-Bank: A Benchmark for Evaluating Tool-Augmented Language Models',\n  'author': 'Li et al. 2023'},\n {'title': 'ChemCrow: Augmenting Language Models with Expert-Designed Tools for Scientific Discovery',\n  'author': 'Bran et al. 2023'},\n {'title': 'Boiko et al. (2023)', 'author': 'Boiko et al.'},\n {'title': 'Generative Agents Simulation', 'author': 'Park, et al. 2023'},\n {'title': 'Park et al. 2023', 'author': ''},\n {'title': 'Super Mario: A Platform Game', 'author': 'John Smith'},\n {'title': 'MVC Architecture in Python', 'author': 'Jane Doe'},\n {'title': 'Keyboard Control in Python Games', 'author': 'Alice Johnson'},\n {'title': 'Paper A', 'author': 'Author A'},\n {'title': 'Paper B', 'author': 'Author B'},\n {'title': 'Paper C', 'author': 'Author C'},\n {'title': 'Chain of thought prompting elicits reasoning in large language models',\n  'author': 'Wei et al.'},\n {'title': 'Tree of Thoughts: Deliberate Problem Solving with Large Language Models',\n  'author': 'Yao et al.'},\n {'title': 'Chain of Hindsight Aligns Language Models with Feedback',\n  'author': 'Liu et al.'},\n {'title': 'LLM+P: Empowering Large Language Models with Optimal Planning Proficiency',\n  'author': 'Liu et al.'},\n {'title': 'ReAct: Synergizing reasoning and acting in language models',\n  'author': 'Yao et al.'},\n {'title': 'Reflexion: an autonomous agent with dynamic memory and self-reflection',\n  'author': 'Shinn & Labash'},\n {'title': 'In-context Reinforcement Learning with Algorithm Distillation',\n  'author': 'Laskin et al.'},\n {'title': 'MRKL Systems A modular, neuro-symbolic architecture that combines large language models, external knowledge sources and discrete reasoning',\n  'author': 'Karpas et al.'},\n {'title': 'API-Bank: A Benchmark for Tool-Augmented LLMs',\n  'author': 'Li et al.'},\n {'title': 'HuggingGPT: Solving AI Tasks with ChatGPT and its Friends in HuggingFace',\n  'author': 'Shen et al.'},\n {'title': 'ChemCrow: Augmenting large-language models with chemistry tools',\n  'author': 'Bran et al.'},\n {'title': 'Emergent autonomous scientific research capabilities of large language models',\n  'author': 'Boiko et al.'},\n {'title': 'Generative Agents: Interactive Simulacra of Human Behavior',\n  'author': 'Joon Sung Park, et al.'}]"
                    },
                    "metadata": {}
                }
            ]
        },
        {
            "metadata": {
                "trusted": true,
                "height": 30
            },
            "id": "68cb460a-2b56-42be-acf6-4f61e40027f4",
            "cell_type": "code",
            "source": "",
            "execution_count": null,
            "outputs": []
        },
        {
            "metadata": {
                "trusted": true,
                "height": 30
            },
            "id": "32277f95-fdb1-4873-b513-4aa9f7437308",
            "cell_type": "code",
            "source": "",
            "execution_count": null,
            "outputs": []
        },
        {
            "metadata": {
                "trusted": true,
                "height": 30
            },
            "id": "cbf4b7b3-13f8-4cb6-b658-a0b0af88034d",
            "cell_type": "code",
            "source": "",
            "execution_count": null,
            "outputs": []
        },
        {
            "metadata": {
                "trusted": true,
                "height": 30
            },
            "id": "23fe8752-104b-4672-a024-8ef182bde883",
            "cell_type": "code",
            "source": "",
            "execution_count": null,
            "outputs": []
        },
        {
            "metadata": {
                "trusted": true,
                "height": 30
            },
            "id": "918dd6d5-fec4-4d08-be91-6b0bb56340ae",
            "cell_type": "code",
            "source": "",
            "execution_count": null,
            "outputs": []
        },
        {
            "metadata": {
                "trusted": true,
                "height": 30
            },
            "id": "caf6b3ac-0367-4bf9-b01b-acebd6d1cfbf",
            "cell_type": "code",
            "source": "",
            "execution_count": null,
            "outputs": []
        },
        {
            "metadata": {
                "trusted": true,
                "height": 30
            },
            "id": "d2d90c83-cc84-4d44-bfff-35a30fb72f63",
            "cell_type": "code",
            "source": "",
            "execution_count": null,
            "outputs": []
        },
        {
            "metadata": {
                "trusted": true,
                "height": 30
            },
            "id": "b31bb740-2d2a-4fc8-8887-4e9da113e82d",
            "cell_type": "code",
            "source": "",
            "execution_count": null,
            "outputs": []
        },
        {
            "metadata": {
                "trusted": true,
                "height": 30
            },
            "id": "5409db4a-a52b-4943-944e-7221eda0339e",
            "cell_type": "code",
            "source": "",
            "execution_count": null,
            "outputs": []
        },
        {
            "metadata": {
                "trusted": true,
                "height": 30
            },
            "id": "0cdcc19b-7b03-4d7e-a90d-1f8c33d1f9d9",
            "cell_type": "code",
            "source": "",
            "execution_count": null,
            "outputs": []
        },
        {
            "metadata": {
                "trusted": true,
                "height": 30
            },
            "id": "60c5f869-67cc-4b66-8d14-7d19dd01b22a",
            "cell_type": "code",
            "source": "",
            "execution_count": null,
            "outputs": []
        }
    ],
    "metadata": {
        "kernelspec": {
            "name": "python3",
            "display_name": "Python 3 (ipykernel)",
            "language": "python"
        },
        "language_info": {
            "name": "python",
            "version": "3.9.18",
            "mimetype": "text/x-python",
            "codemirror_mode": {
                "name": "ipython",
                "version": 3
            },
            "pygments_lexer": "ipython3",
            "nbconvert_exporter": "python",
            "file_extension": ".py"
        }
    },
    "nbformat": 4,
    "nbformat_minor": 5
}
