{
    "cells": [
        {
            "metadata": {},
            "id": "16de7336",
            "cell_type": "markdown",
            "source": "# OpenAI Function Calling In LangChain"
        },
        {
            "metadata": {
                "tags": [],
                "trusted": true,
                "height": 115
            },
            "id": "cb41f5f4-df8d-4d04-9eaa-193b8c29b00b",
            "cell_type": "code",
            "source": "import os\nimport openai\n\nfrom dotenv import load_dotenv, find_dotenv\n_ = load_dotenv(find_dotenv()) # read local .env file\nopenai.api_key = os.environ['OPENAI_API_KEY']",
            "execution_count": 1,
            "outputs": []
        },
        {
            "metadata": {
                "trusted": true,
                "height": 47
            },
            "id": "aa1dddf9-8e44-4454-9d44-f8372cccf5ac",
            "cell_type": "code",
            "source": "from typing import List\nfrom pydantic import BaseModel, Field",
            "execution_count": 2,
            "outputs": []
        },
        {
            "metadata": {},
            "id": "ad68931a-f806-4ea9-969c-93b3902baf9b",
            "cell_type": "markdown",
            "source": "## Pydantic Syntax\n\nPydantic data classes are a blend of Python's data classes with the validation power of Pydantic. \n\nThey offer a concise way to define data structures while ensuring that the data adheres to specified types and constraints.\n\nIn standard python you would create a class like this:"
        },
        {
            "metadata": {
                "trusted": true,
                "height": 98
            },
            "id": "e1557226-36e2-484b-a2fb-bb7e3180342c",
            "cell_type": "code",
            "source": "class User:\n    def __init__(self, name: str, age: int, email: str):\n        self.name = name\n        self.age = age\n        self.email = email",
            "execution_count": 3,
            "outputs": []
        },
        {
            "metadata": {
                "trusted": true,
                "height": 30
            },
            "id": "11b9b584-74dc-49b8-a7fe-3865368774e9",
            "cell_type": "code",
            "source": "foo = User(name=\"Joe\",age=32, email=\"joe@gmail.com\")",
            "execution_count": 4,
            "outputs": []
        },
        {
            "metadata": {
                "trusted": true,
                "height": 30
            },
            "id": "0f6f9e9c-b83a-4859-8e65-e6488e05a071",
            "cell_type": "code",
            "source": "foo.name",
            "execution_count": 5,
            "outputs": [
                {
                    "output_type": "execute_result",
                    "execution_count": 5,
                    "data": {
                        "text/plain": "'Joe'"
                    },
                    "metadata": {}
                }
            ]
        },
        {
            "metadata": {
                "trusted": true,
                "height": 30
            },
            "id": "10a6a0de-d7dc-414d-baaf-fa43c6d1f410",
            "cell_type": "code",
            "source": "foo = User(name=\"Joe\",age=\"bar\", email=\"joe@gmail.com\")",
            "execution_count": 6,
            "outputs": []
        },
        {
            "metadata": {
                "trusted": true,
                "height": 30
            },
            "id": "613b7b12-f061-44bc-989d-433cab609164",
            "cell_type": "code",
            "source": "foo.age",
            "execution_count": 7,
            "outputs": [
                {
                    "output_type": "execute_result",
                    "execution_count": 7,
                    "data": {
                        "text/plain": "'bar'"
                    },
                    "metadata": {}
                }
            ]
        },
        {
            "metadata": {
                "trusted": true,
                "height": 81
            },
            "id": "c541cb8d-fc55-4c94-a04f-a877cccf10ec",
            "cell_type": "code",
            "source": "class pUser(BaseModel):\n    name: str\n    age: int\n    email: str",
            "execution_count": 8,
            "outputs": []
        },
        {
            "metadata": {
                "trusted": true,
                "height": 30
            },
            "id": "27394d22-73e3-4918-9bdf-18cd7c973942",
            "cell_type": "code",
            "source": "foo_p = pUser(name=\"Jane\", age=32, email=\"jane@gmail.com\")",
            "execution_count": 9,
            "outputs": []
        },
        {
            "metadata": {
                "trusted": true,
                "height": 30
            },
            "id": "49f25241-ff47-454f-bac4-ba20ab937d70",
            "cell_type": "code",
            "source": "foo_p.name",
            "execution_count": 10,
            "outputs": [
                {
                    "output_type": "execute_result",
                    "execution_count": 10,
                    "data": {
                        "text/plain": "'Jane'"
                    },
                    "metadata": {}
                }
            ]
        },
        {
            "metadata": {
                "trusted": true,
                "height": 30
            },
            "id": "37030df3-ec11-4523-ac66-b88f90099d1b",
            "cell_type": "code",
            "source": "foo_p = pUser(name=\"Jane\", age=\"bar\", email=\"jane@gmail.com\")",
            "execution_count": 11,
            "outputs": [
                {
                    "output_type": "error",
                    "ename": "ValidationError",
                    "evalue": "1 validation error for pUser\nage\n  value is not a valid integer (type=type_error.integer)",
                    "traceback": [
                        "\u001b[0;31m---------------------------------------------------------------------------\u001b[0m",
                        "\u001b[0;31mValidationError\u001b[0m                           Traceback (most recent call last)",
                        "Cell \u001b[0;32mIn[11], line 1\u001b[0m\n\u001b[0;32m----> 1\u001b[0m foo_p \u001b[38;5;241m=\u001b[39m \u001b[43mpUser\u001b[49m\u001b[43m(\u001b[49m\u001b[43mname\u001b[49m\u001b[38;5;241;43m=\u001b[39;49m\u001b[38;5;124;43m\"\u001b[39;49m\u001b[38;5;124;43mJane\u001b[39;49m\u001b[38;5;124;43m\"\u001b[39;49m\u001b[43m,\u001b[49m\u001b[43m \u001b[49m\u001b[43mage\u001b[49m\u001b[38;5;241;43m=\u001b[39;49m\u001b[38;5;124;43m\"\u001b[39;49m\u001b[38;5;124;43mbar\u001b[39;49m\u001b[38;5;124;43m\"\u001b[39;49m\u001b[43m,\u001b[49m\u001b[43m \u001b[49m\u001b[43memail\u001b[49m\u001b[38;5;241;43m=\u001b[39;49m\u001b[38;5;124;43m\"\u001b[39;49m\u001b[38;5;124;43mjane@gmail.com\u001b[39;49m\u001b[38;5;124;43m\"\u001b[39;49m\u001b[43m)\u001b[49m\n",
                        "File \u001b[0;32m/usr/local/lib/python3.9/site-packages/pydantic/main.py:341\u001b[0m, in \u001b[0;36mpydantic.main.BaseModel.__init__\u001b[0;34m()\u001b[0m\n",
                        "\u001b[0;31mValidationError\u001b[0m: 1 validation error for pUser\nage\n  value is not a valid integer (type=type_error.integer)"
                    ]
                }
            ]
        },
        {
            "metadata": {
                "trusted": true,
                "height": 47
            },
            "id": "911e7677-cc5d-4957-b6c3-b3ba1493de33",
            "cell_type": "code",
            "source": "class Class(BaseModel):\n    students: List[pUser]",
            "execution_count": 12,
            "outputs": []
        },
        {
            "metadata": {
                "trusted": true,
                "height": 64
            },
            "id": "14920e50-688e-4dd4-9207-9b59c6b018c6",
            "cell_type": "code",
            "source": "obj = Class(\n    students=[pUser(name=\"Jane\", age=32, email=\"jane@gmail.com\")]\n)",
            "execution_count": 13,
            "outputs": []
        },
        {
            "metadata": {
                "trusted": true,
                "height": 30
            },
            "id": "cede1035-7581-4203-bab7-b8e6363c931f",
            "cell_type": "code",
            "source": "obj",
            "execution_count": 14,
            "outputs": [
                {
                    "output_type": "execute_result",
                    "execution_count": 14,
                    "data": {
                        "text/plain": "Class(students=[pUser(name='Jane', age=32, email='jane@gmail.com')])"
                    },
                    "metadata": {}
                }
            ]
        },
        {
            "metadata": {},
            "id": "b9c12cef-3a2d-46da-9c45-9a117e10f4a4",
            "cell_type": "markdown",
            "source": "## Pydantic to OpenAI function definition\n"
        },
        {
            "metadata": {
                "trusted": true,
                "height": 79
            },
            "id": "617ceea9-009f-4325-adae-85ab29fccd68",
            "cell_type": "code",
            "source": "class WeatherSearch(BaseModel):\n    \"\"\"Call this with an airport code to get the weather at that airport\"\"\"\n    airport_code: str = Field(description=\"airport code to get weather for\")",
            "execution_count": 15,
            "outputs": []
        },
        {
            "metadata": {
                "trusted": true,
                "height": 45
            },
            "id": "b22a438c-6692-47f9-9e00-1a95d04c6dd3",
            "cell_type": "code",
            "source": "from langchain.utils.openai_functions import convert_pydantic_to_openai_function",
            "execution_count": 16,
            "outputs": []
        },
        {
            "metadata": {
                "trusted": true,
                "height": 45
            },
            "id": "97e152c4-8d04-4a02-b363-ee7691f60e31",
            "cell_type": "code",
            "source": "weather_function = convert_pydantic_to_openai_function(WeatherSearch)",
            "execution_count": 17,
            "outputs": []
        },
        {
            "metadata": {
                "trusted": true,
                "height": 30
            },
            "id": "f36b041e-bd28-4e25-a0c1-fbeeeee4ae53",
            "cell_type": "code",
            "source": "weather_function",
            "execution_count": 18,
            "outputs": [
                {
                    "output_type": "execute_result",
                    "execution_count": 18,
                    "data": {
                        "text/plain": "{'name': 'WeatherSearch',\n 'description': 'Call this with an airport code to get the weather at that airport',\n 'parameters': {'title': 'WeatherSearch',\n  'description': 'Call this with an airport code to get the weather at that airport',\n  'type': 'object',\n  'properties': {'airport_code': {'title': 'Airport Code',\n    'description': 'airport code to get weather for',\n    'type': 'string'}},\n  'required': ['airport_code']}}"
                    },
                    "metadata": {}
                }
            ]
        },
        {
            "metadata": {
                "trusted": true,
                "height": 62
            },
            "id": "c5d7c573-2f84-441d-ab73-a3dd263318d4",
            "cell_type": "code",
            "source": "class WeatherSearch1(BaseModel):\n    airport_code: str = Field(description=\"airport code to get weather for\")",
            "execution_count": 19,
            "outputs": []
        },
        {
            "metadata": {},
            "id": "3d99b688-a9a7-4446-977f-07918a5d93e1",
            "cell_type": "markdown",
            "source": "Note: The next cell is expected to generate an error."
        },
        {
            "metadata": {
                "trusted": true,
                "height": 30
            },
            "id": "bb08f095-8190-41c5-b49c-e3580cedf992",
            "cell_type": "code",
            "source": "convert_pydantic_to_openai_function(WeatherSearch1)",
            "execution_count": 20,
            "outputs": [
                {
                    "output_type": "error",
                    "ename": "KeyError",
                    "evalue": "'description'",
                    "traceback": [
                        "\u001b[0;31m---------------------------------------------------------------------------\u001b[0m",
                        "\u001b[0;31mKeyError\u001b[0m                                  Traceback (most recent call last)",
                        "Cell \u001b[0;32mIn[20], line 1\u001b[0m\n\u001b[0;32m----> 1\u001b[0m \u001b[43mconvert_pydantic_to_openai_function\u001b[49m\u001b[43m(\u001b[49m\u001b[43mWeatherSearch1\u001b[49m\u001b[43m)\u001b[49m\n",
                        "File \u001b[0;32m/usr/local/lib/python3.9/site-packages/langchain/utils/openai_functions.py:28\u001b[0m, in \u001b[0;36mconvert_pydantic_to_openai_function\u001b[0;34m(model, name, description)\u001b[0m\n\u001b[1;32m     24\u001b[0m schema \u001b[38;5;241m=\u001b[39m dereference_refs(model\u001b[38;5;241m.\u001b[39mschema())\n\u001b[1;32m     25\u001b[0m schema\u001b[38;5;241m.\u001b[39mpop(\u001b[38;5;124m\"\u001b[39m\u001b[38;5;124mdefinitions\u001b[39m\u001b[38;5;124m\"\u001b[39m, \u001b[38;5;28;01mNone\u001b[39;00m)\n\u001b[1;32m     26\u001b[0m \u001b[38;5;28;01mreturn\u001b[39;00m {\n\u001b[1;32m     27\u001b[0m     \u001b[38;5;124m\"\u001b[39m\u001b[38;5;124mname\u001b[39m\u001b[38;5;124m\"\u001b[39m: name \u001b[38;5;129;01mor\u001b[39;00m schema[\u001b[38;5;124m\"\u001b[39m\u001b[38;5;124mtitle\u001b[39m\u001b[38;5;124m\"\u001b[39m],\n\u001b[0;32m---> 28\u001b[0m     \u001b[38;5;124m\"\u001b[39m\u001b[38;5;124mdescription\u001b[39m\u001b[38;5;124m\"\u001b[39m: description \u001b[38;5;129;01mor\u001b[39;00m \u001b[43mschema\u001b[49m\u001b[43m[\u001b[49m\u001b[38;5;124;43m\"\u001b[39;49m\u001b[38;5;124;43mdescription\u001b[39;49m\u001b[38;5;124;43m\"\u001b[39;49m\u001b[43m]\u001b[49m,\n\u001b[1;32m     29\u001b[0m     \u001b[38;5;124m\"\u001b[39m\u001b[38;5;124mparameters\u001b[39m\u001b[38;5;124m\"\u001b[39m: schema,\n\u001b[1;32m     30\u001b[0m }\n",
                        "\u001b[0;31mKeyError\u001b[0m: 'description'"
                    ]
                }
            ]
        },
        {
            "metadata": {
                "trusted": true,
                "height": 79
            },
            "id": "ed22668a-e188-45a5-844e-deee62f9bf51",
            "cell_type": "code",
            "source": "class WeatherSearch2(BaseModel):\n    \"\"\"Call this with an airport code to get the weather at that airport\"\"\"\n    airport_code: str",
            "execution_count": 21,
            "outputs": []
        },
        {
            "metadata": {
                "trusted": true,
                "height": 30
            },
            "id": "9e001e87-4338-4720-99b3-9dc4cb3e4faf",
            "cell_type": "code",
            "source": "convert_pydantic_to_openai_function(WeatherSearch2)",
            "execution_count": 22,
            "outputs": [
                {
                    "output_type": "execute_result",
                    "execution_count": 22,
                    "data": {
                        "text/plain": "{'name': 'WeatherSearch2',\n 'description': 'Call this with an airport code to get the weather at that airport',\n 'parameters': {'title': 'WeatherSearch2',\n  'description': 'Call this with an airport code to get the weather at that airport',\n  'type': 'object',\n  'properties': {'airport_code': {'title': 'Airport Code', 'type': 'string'}},\n  'required': ['airport_code']}}"
                    },
                    "metadata": {}
                }
            ]
        },
        {
            "metadata": {
                "trusted": true,
                "height": 30
            },
            "id": "a35261e8-2d36-43a8-a051-a79bef35c8dd",
            "cell_type": "code",
            "source": "from langchain.chat_models import ChatOpenAI",
            "execution_count": 23,
            "outputs": []
        },
        {
            "metadata": {
                "trusted": true,
                "height": 30
            },
            "id": "93bda0a6-9206-407a-b0da-966f9442a40c",
            "cell_type": "code",
            "source": "model = ChatOpenAI()",
            "execution_count": 24,
            "outputs": []
        },
        {
            "metadata": {
                "trusted": true,
                "height": 45
            },
            "id": "afe342d4-a7ef-49cd-b760-aa9a176d64d5",
            "cell_type": "code",
            "source": "model.invoke(\"what is the weather in SF today?\", functions=[weather_function])",
            "execution_count": 25,
            "outputs": [
                {
                    "output_type": "execute_result",
                    "execution_count": 25,
                    "data": {
                        "text/plain": "AIMessage(content='', additional_kwargs={'function_call': {'name': 'WeatherSearch', 'arguments': '{\\n  \"airport_code\": \"SFO\"\\n}'}})"
                    },
                    "metadata": {}
                }
            ]
        },
        {
            "metadata": {
                "trusted": true,
                "height": 30
            },
            "id": "511e12b6-bcfb-4862-b377-4251de9969ea",
            "cell_type": "code",
            "source": "model_with_function = model.bind(functions=[weather_function])",
            "execution_count": 26,
            "outputs": []
        },
        {
            "metadata": {
                "trusted": true,
                "height": 30
            },
            "id": "de6241d9-667c-4b97-a50f-95c046fa640c",
            "cell_type": "code",
            "source": "model_with_function.invoke(\"what is the weather in sf?\")",
            "execution_count": 27,
            "outputs": [
                {
                    "output_type": "execute_result",
                    "execution_count": 27,
                    "data": {
                        "text/plain": "AIMessage(content='', additional_kwargs={'function_call': {'name': 'WeatherSearch', 'arguments': '{\\n  \"airport_code\": \"SFO\"\\n}'}})"
                    },
                    "metadata": {}
                }
            ]
        },
        {
            "metadata": {},
            "id": "ae78d6dd-bb38-4e55-9b65-0ef9005a52b9",
            "cell_type": "markdown",
            "source": "## Forcing it to use a function\n\nWe can force the model to use a function"
        },
        {
            "metadata": {
                "trusted": true,
                "height": 45
            },
            "id": "e7d2fbc0-df39-4e93-a22f-39a6285272b4",
            "cell_type": "code",
            "source": "model_with_forced_function = model.bind(functions=[weather_function], function_call={\"name\":\"WeatherSearch\"})",
            "execution_count": 28,
            "outputs": []
        },
        {
            "metadata": {
                "trusted": true,
                "height": 30
            },
            "id": "cd9f4063-9e15-41d7-9cf9-253548534176",
            "cell_type": "code",
            "source": "model_with_forced_function.invoke(\"what is the weather in sf?\")",
            "execution_count": 29,
            "outputs": [
                {
                    "output_type": "execute_result",
                    "execution_count": 29,
                    "data": {
                        "text/plain": "AIMessage(content='', additional_kwargs={'function_call': {'name': 'WeatherSearch', 'arguments': '{\\n  \"airport_code\": \"SFO\"\\n}'}})"
                    },
                    "metadata": {}
                }
            ]
        },
        {
            "metadata": {
                "trusted": true,
                "height": 30
            },
            "id": "314ca7e6-b77c-4b9d-9c93-da6ef3c9c6f8",
            "cell_type": "code",
            "source": "model_with_forced_function.invoke(\"hi!\")",
            "execution_count": 30,
            "outputs": [
                {
                    "output_type": "execute_result",
                    "execution_count": 30,
                    "data": {
                        "text/plain": "AIMessage(content='', additional_kwargs={'function_call': {'name': 'WeatherSearch', 'arguments': '{\\n  \"airport_code\": \"JFK\"\\n}'}})"
                    },
                    "metadata": {}
                }
            ]
        },
        {
            "metadata": {},
            "id": "5ac391c3-cd81-4423-a33e-6583ec534850",
            "cell_type": "markdown",
            "source": "## Using in a chain\n\nWe can use this model bound to function in a chain as we normally would"
        },
        {
            "metadata": {
                "trusted": true,
                "height": 30
            },
            "id": "c12c86df-d628-4176-9f4e-24fb5a953a5d",
            "cell_type": "code",
            "source": "from langchain.prompts import ChatPromptTemplate",
            "execution_count": 31,
            "outputs": []
        },
        {
            "metadata": {
                "trusted": true,
                "height": 81
            },
            "id": "83f00dc6-5d22-44a5-a0a0-4fe1ab8167ac",
            "cell_type": "code",
            "source": "prompt = ChatPromptTemplate.from_messages([\n    (\"system\", \"You are a helpful assistant\"),\n    (\"user\", \"{input}\")\n])",
            "execution_count": 32,
            "outputs": []
        },
        {
            "metadata": {
                "trusted": true,
                "height": 30
            },
            "id": "1eee3f5f-2176-4777-8c8a-2a197acc47a7",
            "cell_type": "code",
            "source": "chain = prompt | model_with_function",
            "execution_count": 33,
            "outputs": []
        },
        {
            "metadata": {
                "trusted": true,
                "height": 30
            },
            "id": "8587907e-b4c3-4acd-9e58-1137047d0fee",
            "cell_type": "code",
            "source": "chain.invoke({\"input\": \"what is the weather in sf?\"})",
            "execution_count": 34,
            "outputs": [
                {
                    "output_type": "execute_result",
                    "execution_count": 34,
                    "data": {
                        "text/plain": "AIMessage(content='', additional_kwargs={'function_call': {'name': 'WeatherSearch', 'arguments': '{\\n  \"airport_code\": \"SFO\"\\n}'}})"
                    },
                    "metadata": {}
                }
            ]
        },
        {
            "metadata": {},
            "id": "f317408d-de5e-4774-993e-a8ac31a2f5fe",
            "cell_type": "markdown",
            "source": "## Using multiple functions\n\nEven better, we can pass a set of function and let the LLM decide which to use based on the question context."
        },
        {
            "metadata": {
                "trusted": true,
                "height": 96
            },
            "id": "48c8e42e-f84e-4822-b1ee-a9955fa301c4",
            "cell_type": "code",
            "source": "class ArtistSearch(BaseModel):\n    \"\"\"Call this to get the names of songs by a particular artist\"\"\"\n    artist_name: str = Field(description=\"name of artist to look up\")\n    n: int = Field(description=\"number of results\")",
            "execution_count": 35,
            "outputs": []
        },
        {
            "metadata": {
                "trusted": true,
                "height": 81
            },
            "id": "9a51599b-ee32-4f74-9925-b6264bf43242",
            "cell_type": "code",
            "source": "functions = [\n    convert_pydantic_to_openai_function(WeatherSearch),\n    convert_pydantic_to_openai_function(ArtistSearch),\n]",
            "execution_count": 36,
            "outputs": []
        },
        {
            "metadata": {
                "trusted": true,
                "height": 30
            },
            "id": "e0cc9e3b-ba38-4eff-b285-d02ee5963725",
            "cell_type": "code",
            "source": "model_with_functions = model.bind(functions=functions)",
            "execution_count": 37,
            "outputs": []
        },
        {
            "metadata": {
                "trusted": true,
                "height": 30
            },
            "id": "d01cd501-03b4-4207-b1be-0c33c12a0fa5",
            "cell_type": "code",
            "source": "model_with_functions.invoke(\"what is the weather in sf?\")",
            "execution_count": 38,
            "outputs": [
                {
                    "output_type": "execute_result",
                    "execution_count": 38,
                    "data": {
                        "text/plain": "AIMessage(content='', additional_kwargs={'function_call': {'name': 'WeatherSearch', 'arguments': '{\\n  \"airport_code\": \"SFO\"\\n}'}})"
                    },
                    "metadata": {}
                }
            ]
        },
        {
            "metadata": {
                "trusted": true,
                "height": 45
            },
            "id": "31599518-7387-4d08-9d68-8f5ba7282e8b",
            "cell_type": "code",
            "source": "model_with_functions.invoke(\"what are three songs by taylor swift?\")",
            "execution_count": 39,
            "outputs": [
                {
                    "output_type": "execute_result",
                    "execution_count": 39,
                    "data": {
                        "text/plain": "AIMessage(content='', additional_kwargs={'function_call': {'name': 'ArtistSearch', 'arguments': '{\\n\"artist_name\": \"taylor swift\",\\n\"n\": 3\\n}'}})"
                    },
                    "metadata": {}
                }
            ]
        },
        {
            "metadata": {
                "trusted": true,
                "height": 30
            },
            "id": "4e6df989-6ea3-48af-b2c0-10978e0f4142",
            "cell_type": "code",
            "source": "model_with_functions.invoke(\"hi!\")",
            "execution_count": 40,
            "outputs": [
                {
                    "output_type": "execute_result",
                    "execution_count": 40,
                    "data": {
                        "text/plain": "AIMessage(content='Hello! How can I assist you today?')"
                    },
                    "metadata": {}
                }
            ]
        },
        {
            "metadata": {
                "trusted": true,
                "height": 30
            },
            "id": "b29653b7-1382-4375-b681-10c51964fff5",
            "cell_type": "code",
            "source": "",
            "execution_count": null,
            "outputs": []
        },
        {
            "metadata": {
                "trusted": true,
                "height": 30
            },
            "id": "b463f4b3-1105-4c64-9a23-32dabe86e71b",
            "cell_type": "code",
            "source": "",
            "execution_count": null,
            "outputs": []
        },
        {
            "metadata": {
                "trusted": true,
                "height": 30
            },
            "id": "7651222c-ec2c-4e7e-a397-b8f962906037",
            "cell_type": "code",
            "source": "",
            "execution_count": null,
            "outputs": []
        },
        {
            "metadata": {
                "trusted": true,
                "height": 30
            },
            "id": "91bc3f83-1631-4f34-b852-e7325b8f39c2",
            "cell_type": "code",
            "source": "",
            "execution_count": null,
            "outputs": []
        },
        {
            "metadata": {
                "trusted": true,
                "height": 30
            },
            "id": "bfd13a31-531d-493b-b707-9525915d2c02",
            "cell_type": "code",
            "source": "",
            "execution_count": null,
            "outputs": []
        },
        {
            "metadata": {
                "trusted": true,
                "height": 30
            },
            "id": "592876b9-925b-4ab9-ada8-bb9af0a4b523",
            "cell_type": "code",
            "source": "",
            "execution_count": null,
            "outputs": []
        },
        {
            "metadata": {
                "trusted": true,
                "height": 30
            },
            "id": "3a0e1e52-101d-4f18-b3cb-f45ef332ccbe",
            "cell_type": "code",
            "source": "",
            "execution_count": null,
            "outputs": []
        },
        {
            "metadata": {
                "trusted": true,
                "height": 30
            },
            "id": "6d22ea80-98f6-4599-a48a-0a41284994d0",
            "cell_type": "code",
            "source": "",
            "execution_count": null,
            "outputs": []
        },
        {
            "metadata": {
                "trusted": true,
                "height": 30
            },
            "id": "4c66221b-e1a9-4ea2-833b-5ab6184a8454",
            "cell_type": "code",
            "source": "",
            "execution_count": null,
            "outputs": []
        },
        {
            "metadata": {
                "trusted": true,
                "height": 30
            },
            "id": "c0c1ab37-f001-42ce-b18f-b40dfb005f43",
            "cell_type": "code",
            "source": "",
            "execution_count": null,
            "outputs": []
        },
        {
            "metadata": {
                "trusted": true,
                "height": 30
            },
            "id": "c7eb94a2-ad8f-41da-bbff-a627924f7d34",
            "cell_type": "code",
            "source": "",
            "execution_count": null,
            "outputs": []
        },
        {
            "metadata": {
                "trusted": true,
                "height": 30
            },
            "id": "f380d482-b37f-4806-ab36-09a8ee60d258",
            "cell_type": "code",
            "source": "",
            "execution_count": null,
            "outputs": []
        }
    ],
    "metadata": {
        "kernelspec": {
            "name": "python3",
            "display_name": "Python 3 (ipykernel)",
            "language": "python"
        },
        "language_info": {
            "name": "python",
            "version": "3.9.18",
            "mimetype": "text/x-python",
            "codemirror_mode": {
                "name": "ipython",
                "version": 3
            },
            "pygments_lexer": "ipython3",
            "nbconvert_exporter": "python",
            "file_extension": ".py"
        }
    },
    "nbformat": 4,
    "nbformat_minor": 5
}
